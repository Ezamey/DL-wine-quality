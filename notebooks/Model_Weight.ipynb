{
 "cells": [
  {
   "cell_type": "code",
   "execution_count": 1,
   "metadata": {},
   "outputs": [],
   "source": [
    "#imports\n",
    "import pandas as pd\n",
    "import numpy as np\n",
    "import tensorflow as tf\n",
    "from tensorflow import keras\n",
    "import matplotlib.pyplot as plt\n",
    "import seaborn as sns\n",
    "import sklearn\n",
    "from sklearn.metrics import confusion_matrix\n",
    "from sklearn.model_selection import train_test_split\n",
    "from sklearn.preprocessing import StandardScaler\n",
    "\n",
    "#set ups\n",
    "plt.rcParams['figure.figsize'] = (12, 10)\n",
    "\n",
    "#data\n",
    "PATH = '../data/wine.csv'\n",
    "wine = pd.read_csv(PATH)\n",
    "wine.drop(\"index\",inplace=True,axis=1)"
   ]
  },
  {
   "cell_type": "markdown",
   "metadata": {},
   "source": [
    "# Dataframe Modif"
   ]
  },
  {
   "cell_type": "code",
   "execution_count": 2,
   "metadata": {},
   "outputs": [],
   "source": [
    "wine_modif = wine.copy()"
   ]
  },
  {
   "cell_type": "markdown",
   "metadata": {},
   "source": [
    "### Total Sulfur Dioxide - [Why it Matters, Too!](https://www.extension.iastate.edu/wine/total-sulfur-dioxide-why-it-matters-too#:~:text=Simply%20put%2C%20Total%20Sulfur%20Dioxide,aldehydes%2C%20pigments%2C%20or%20sugars.)"
   ]
  },
  {
   "cell_type": "code",
   "execution_count": 3,
   "metadata": {},
   "outputs": [],
   "source": [
    "#ratio TSO2 /FSO2\n",
    "wine_modif[\"ratioSO2\"] = wine_modif[\"free sulfur dioxide\"] / wine_modif[\"total sulfur dioxide\"]"
   ]
  },
  {
   "cell_type": "code",
   "execution_count": 4,
   "metadata": {},
   "outputs": [],
   "source": [
    "# Creating a test/train split\n",
    "index_sep = 0.80\n",
    "split_index = int(wine_modif.shape[0] * index_sep)\n",
    "\n",
    "train_features = wine_modif[:split_index]\n",
    "test_features = wine_modif[split_index:]\n",
    "\n",
    "# Features selection\n",
    "X_train = train_features.drop(['quality'], axis = 1).values\n",
    "X_test = test_features.drop(['quality'], axis = 1).values\n",
    "\n",
    "#Target = Quality\n",
    "target = pd.get_dummies(wine_modif['quality']).values # One hot encode\n",
    "train_target = target[:split_index]\n",
    "test_target = target[split_index:]"
   ]
  },
  {
   "cell_type": "code",
   "execution_count": 5,
   "metadata": {},
   "outputs": [
    {
     "data": {
      "text/plain": [
       "array([[ 7.4       ,  0.7       ,  0.        , ...,  0.56      ,\n",
       "         9.4       ,  0.32352941],\n",
       "       [ 7.8       ,  0.88      ,  0.        , ...,  0.68      ,\n",
       "         9.8       ,  0.37313433],\n",
       "       [ 7.8       ,  0.76      ,  0.04      , ...,  0.65      ,\n",
       "         9.8       ,  0.27777778],\n",
       "       ...,\n",
       "       [ 7.2       ,  0.16      ,  0.29      , ...,  0.4       ,\n",
       "        12.1       ,  0.32520325],\n",
       "       [ 6.6       ,  0.17      ,  0.28      , ...,  0.52      ,\n",
       "        11.9       ,  0.50925926],\n",
       "       [ 6.6       ,  0.19      ,  0.28      , ...,  0.37      ,\n",
       "        10.8       ,  0.39416058]])"
      ]
     },
     "execution_count": 5,
     "metadata": {},
     "output_type": "execute_result"
    }
   ],
   "source": [
    "X_train"
   ]
  },
  {
   "cell_type": "markdown",
   "metadata": {},
   "source": [
    "# Normalize the data"
   ]
  },
  {
   "cell_type": "code",
   "execution_count": 6,
   "metadata": {},
   "outputs": [],
   "source": [
    "mean = np.mean(X_train, axis=0)\n",
    "X_train -= mean\n",
    "X_test  -= mean\n",
    "std = np.std(X_train, axis=0)\n",
    "X_train /= std\n",
    "X_test /= std"
   ]
  },
  {
   "cell_type": "markdown",
   "metadata": {},
   "source": [
    "# Plot function"
   ]
  },
  {
   "cell_type": "code",
   "execution_count": 7,
   "metadata": {},
   "outputs": [],
   "source": [
    "def plot_metrics(history):\n",
    "  metrics = ['loss', 'auc', 'precision', 'recall']\n",
    "  for n, metric in enumerate(metrics):\n",
    "    name = metric.replace(\"_\",\" \").capitalize()\n",
    "    plt.subplot(2,2,n+1)\n",
    "    plt.plot(history.epoch, history.history[metric], color=\"red\", label='Train')\n",
    "    plt.plot(history.epoch, history.history['val_'+metric],\n",
    "             color=\"blue\", linestyle=\"--\", label='Val')\n",
    "    plt.xlabel('Epoch')\n",
    "    plt.ylabel(name)\n",
    "    if metric == 'loss':\n",
    "      plt.ylim([0, plt.ylim()[1]])\n",
    "    elif metric == 'auc':\n",
    "      plt.ylim([0.8,1])\n",
    "    else:\n",
    "      plt.ylim([0,1])\n",
    "    \n",
    "    plt.legend()"
   ]
  },
  {
   "cell_type": "markdown",
   "metadata": {},
   "source": [
    "### Class weights"
   ]
  },
  {
   "cell_type": "code",
   "execution_count": 8,
   "metadata": {},
   "outputs": [],
   "source": [
    "labels = wine_modif['quality'].values\n",
    "y_w = labels[:split_index]"
   ]
  },
  {
   "cell_type": "code",
   "execution_count": 9,
   "metadata": {},
   "outputs": [],
   "source": [
    "from sklearn.utils import class_weight\n",
    "class_weights = dict(zip([0,1,2,3,4,5,6], class_weight.compute_class_weight(None, classes = np.unique(y_w), \n",
    "                y=y_w))) "
   ]
  },
  {
   "cell_type": "markdown",
   "metadata": {},
   "source": [
    "# Model"
   ]
  },
  {
   "cell_type": "code",
   "execution_count": 10,
   "metadata": {},
   "outputs": [],
   "source": [
    "input_shape = (X_train.shape[1],)\n",
    "output_shape = len(wine[\"quality\"].unique()) # number of output node"
   ]
  },
  {
   "cell_type": "code",
   "execution_count": 11,
   "metadata": {},
   "outputs": [],
   "source": [
    "METRICS = [\n",
    "      keras.metrics.TruePositives(name='tp'),\n",
    "      keras.metrics.FalsePositives(name='fp'),\n",
    "      keras.metrics.TrueNegatives(name='tn'),\n",
    "      keras.metrics.FalseNegatives(name='fn'), \n",
    "      keras.metrics.BinaryAccuracy(name='accuracy'),\n",
    "      keras.metrics.Precision(name='precision'),\n",
    "      keras.metrics.Recall(name='recall'),\n",
    "      keras.metrics.AUC(name='auc'),\n",
    "]\n",
    "\n",
    "def make_model(metrics=METRICS, output_bias=None,output_shape=output_shape,input_shape=input_shape):\n",
    "  if output_bias is not None:\n",
    "    output_bias = tf.keras.initializers.Constant(output_bias)\n",
    "  model = keras.Sequential([\n",
    "      keras.layers.Dense(60,activation=\"sigmoid\",input_shape=input_shape),\n",
    "      keras.layers.Dense(30, activation='relu'),\n",
    "      keras.layers.Dropout(0.5),\n",
    "      keras.layers.Dense(output_shape, activation='softmax')\n",
    "  ])\n",
    "\n",
    "  model.compile(\n",
    "      optimizer=keras.optimizers.Adam(lr=1e-3),\n",
    "      loss=keras.losses.CategoricalCrossentropy(),\n",
    "      metrics=metrics)\n",
    "\n",
    "  return model"
   ]
  },
  {
   "cell_type": "code",
   "execution_count": 12,
   "metadata": {},
   "outputs": [],
   "source": [
    "EPOCHS = 30\n",
    "BATCH_SIZE = 2500\n",
    "early_stopping = tf.keras.callbacks.EarlyStopping(\n",
    "    monitor='val_aux', \n",
    "    verbose=1,\n",
    "    patience=10,\n",
    "    mode='max',\n",
    "    restore_best_weights=True)"
   ]
  },
  {
   "cell_type": "code",
   "execution_count": 13,
   "metadata": {},
   "outputs": [
    {
     "name": "stdout",
     "output_type": "stream",
     "text": [
      "Model: \"sequential\"\n",
      "_________________________________________________________________\n",
      "Layer (type)                 Output Shape              Param #   \n",
      "=================================================================\n",
      "dense (Dense)                (None, 60)                780       \n",
      "_________________________________________________________________\n",
      "dense_1 (Dense)              (None, 30)                1830      \n",
      "_________________________________________________________________\n",
      "dropout (Dropout)            (None, 30)                0         \n",
      "_________________________________________________________________\n",
      "dense_2 (Dense)              (None, 7)                 217       \n",
      "=================================================================\n",
      "Total params: 2,827\n",
      "Trainable params: 2,827\n",
      "Non-trainable params: 0\n",
      "_________________________________________________________________\n"
     ]
    }
   ],
   "source": [
    "weighted_model = make_model()\n",
    "weighted_model.summary()"
   ]
  },
  {
   "cell_type": "markdown",
   "metadata": {},
   "source": [
    "## Model Testing"
   ]
  },
  {
   "cell_type": "code",
   "execution_count": 14,
   "metadata": {},
   "outputs": [
    {
     "name": "stdout",
     "output_type": "stream",
     "text": [
      "Epoch 1/50\n",
      "2/2 [==============================] - 4s 1s/step - loss: 1.8578 - tp: 0.0000e+00 - fp: 0.0000e+00 - tn: 19548.0000 - fn: 3258.0000 - accuracy: 0.8571 - precision: 0.0000e+00 - recall: 0.0000e+00 - auc: 0.6354 - val_loss: 1.7351 - val_tp: 0.0000e+00 - val_fp: 0.0000e+00 - val_tn: 9360.0000 - val_fn: 1560.0000 - val_accuracy: 0.8571 - val_precision: 0.0000e+00 - val_recall: 0.0000e+00 - val_auc: 0.7241\n",
      "WARNING:tensorflow:Early stopping conditioned on metric `val_aux` which is not available. Available metrics are: loss,tp,fp,tn,fn,accuracy,precision,recall,auc,val_loss,val_tp,val_fp,val_tn,val_fn,val_accuracy,val_precision,val_recall,val_auc\n",
      "Epoch 2/50\n",
      "2/2 [==============================] - 0s 148ms/step - loss: 1.7566 - tp: 0.6667 - fp: 0.6667 - tn: 19547.3333 - fn: 3257.3333 - accuracy: 0.8571 - precision: 0.3333 - recall: 1.8330e-04 - auc: 0.6949 - val_loss: 1.6629 - val_tp: 0.0000e+00 - val_fp: 0.0000e+00 - val_tn: 9360.0000 - val_fn: 1560.0000 - val_accuracy: 0.8571 - val_precision: 0.0000e+00 - val_recall: 0.0000e+00 - val_auc: 0.7940\n",
      "WARNING:tensorflow:Early stopping conditioned on metric `val_aux` which is not available. Available metrics are: loss,tp,fp,tn,fn,accuracy,precision,recall,auc,val_loss,val_tp,val_fp,val_tn,val_fn,val_accuracy,val_precision,val_recall,val_auc\n",
      "Epoch 3/50\n",
      "2/2 [==============================] - 0s 168ms/step - loss: 1.6824 - tp: 8.0000 - fp: 4.6667 - tn: 19543.3333 - fn: 3250.0000 - accuracy: 0.8573 - precision: 0.6389 - recall: 0.0024 - auc: 0.7352 - val_loss: 1.5958 - val_tp: 0.0000e+00 - val_fp: 0.0000e+00 - val_tn: 9360.0000 - val_fn: 1560.0000 - val_accuracy: 0.8571 - val_precision: 0.0000e+00 - val_recall: 0.0000e+00 - val_auc: 0.8215\n",
      "WARNING:tensorflow:Early stopping conditioned on metric `val_aux` which is not available. Available metrics are: loss,tp,fp,tn,fn,accuracy,precision,recall,auc,val_loss,val_tp,val_fp,val_tn,val_fn,val_accuracy,val_precision,val_recall,val_auc\n",
      "Epoch 4/50\n",
      "2/2 [==============================] - 0s 416ms/step - loss: 1.6294 - tp: 29.3333 - fp: 28.3333 - tn: 19519.6667 - fn: 3228.6667 - accuracy: 0.8572 - precision: 0.5096 - recall: 0.0088 - auc: 0.7631 - val_loss: 1.5360 - val_tp: 0.0000e+00 - val_fp: 0.0000e+00 - val_tn: 9360.0000 - val_fn: 1560.0000 - val_accuracy: 0.8571 - val_precision: 0.0000e+00 - val_recall: 0.0000e+00 - val_auc: 0.8356\n",
      "WARNING:tensorflow:Early stopping conditioned on metric `val_aux` which is not available. Available metrics are: loss,tp,fp,tn,fn,accuracy,precision,recall,auc,val_loss,val_tp,val_fp,val_tn,val_fn,val_accuracy,val_precision,val_recall,val_auc\n",
      "Epoch 5/50\n",
      "2/2 [==============================] - 0s 172ms/step - loss: 1.5719 - tp: 61.3333 - fp: 68.3333 - tn: 19479.6667 - fn: 3196.6667 - accuracy: 0.8569 - precision: 0.4776 - recall: 0.0187 - auc: 0.7885 - val_loss: 1.4852 - val_tp: 0.0000e+00 - val_fp: 0.0000e+00 - val_tn: 9360.0000 - val_fn: 1560.0000 - val_accuracy: 0.8571 - val_precision: 0.0000e+00 - val_recall: 0.0000e+00 - val_auc: 0.8410\n",
      "WARNING:tensorflow:Early stopping conditioned on metric `val_aux` which is not available. Available metrics are: loss,tp,fp,tn,fn,accuracy,precision,recall,auc,val_loss,val_tp,val_fp,val_tn,val_fn,val_accuracy,val_precision,val_recall,val_auc\n",
      "Epoch 6/50\n",
      "2/2 [==============================] - 0s 193ms/step - loss: 1.5235 - tp: 152.3333 - fp: 162.3333 - tn: 19385.6667 - fn: 3105.6667 - accuracy: 0.8567 - precision: 0.4820 - recall: 0.0462 - auc: 0.8049 - val_loss: 1.4448 - val_tp: 0.0000e+00 - val_fp: 0.0000e+00 - val_tn: 9360.0000 - val_fn: 1560.0000 - val_accuracy: 0.8571 - val_precision: 0.0000e+00 - val_recall: 0.0000e+00 - val_auc: 0.8418\n",
      "WARNING:tensorflow:Early stopping conditioned on metric `val_aux` which is not available. Available metrics are: loss,tp,fp,tn,fn,accuracy,precision,recall,auc,val_loss,val_tp,val_fp,val_tn,val_fn,val_accuracy,val_precision,val_recall,val_auc\n",
      "Epoch 7/50\n",
      "2/2 [==============================] - 0s 159ms/step - loss: 1.5023 - tp: 198.3333 - fp: 282.0000 - tn: 19266.0000 - fn: 3059.6667 - accuracy: 0.8534 - precision: 0.4102 - recall: 0.0602 - auc: 0.8104 - val_loss: 1.4145 - val_tp: 0.0000e+00 - val_fp: 0.0000e+00 - val_tn: 9360.0000 - val_fn: 1560.0000 - val_accuracy: 0.8571 - val_precision: 0.0000e+00 - val_recall: 0.0000e+00 - val_auc: 0.8411\n",
      "WARNING:tensorflow:Early stopping conditioned on metric `val_aux` which is not available. Available metrics are: loss,tp,fp,tn,fn,accuracy,precision,recall,auc,val_loss,val_tp,val_fp,val_tn,val_fn,val_accuracy,val_precision,val_recall,val_auc\n",
      "Epoch 8/50\n",
      "2/2 [==============================] - 0s 162ms/step - loss: 1.4905 - tp: 293.0000 - fp: 412.3333 - tn: 19135.6667 - fn: 2965.0000 - accuracy: 0.8518 - precision: 0.4138 - recall: 0.0893 - auc: 0.8124 - val_loss: 1.3922 - val_tp: 0.0000e+00 - val_fp: 4.0000 - val_tn: 9356.0000 - val_fn: 1560.0000 - val_accuracy: 0.8568 - val_precision: 0.0000e+00 - val_recall: 0.0000e+00 - val_auc: 0.8414\n",
      "WARNING:tensorflow:Early stopping conditioned on metric `val_aux` which is not available. Available metrics are: loss,tp,fp,tn,fn,accuracy,precision,recall,auc,val_loss,val_tp,val_fp,val_tn,val_fn,val_accuracy,val_precision,val_recall,val_auc\n",
      "Epoch 9/50\n",
      "2/2 [==============================] - 0s 145ms/step - loss: 1.4411 - tp: 397.3333 - fp: 491.0000 - tn: 19057.0000 - fn: 2860.6667 - accuracy: 0.8531 - precision: 0.4474 - recall: 0.1217 - auc: 0.8259 - val_loss: 1.3754 - val_tp: 0.0000e+00 - val_fp: 8.0000 - val_tn: 9352.0000 - val_fn: 1560.0000 - val_accuracy: 0.8564 - val_precision: 0.0000e+00 - val_recall: 0.0000e+00 - val_auc: 0.8426\n",
      "WARNING:tensorflow:Early stopping conditioned on metric `val_aux` which is not available. Available metrics are: loss,tp,fp,tn,fn,accuracy,precision,recall,auc,val_loss,val_tp,val_fp,val_tn,val_fn,val_accuracy,val_precision,val_recall,val_auc\n",
      "Epoch 10/50\n",
      "2/2 [==============================] - 0s 147ms/step - loss: 1.4348 - tp: 449.6667 - fp: 584.6667 - tn: 18963.3333 - fn: 2808.3333 - accuracy: 0.8512 - precision: 0.4347 - recall: 0.1380 - auc: 0.8266 - val_loss: 1.3626 - val_tp: 1.0000 - val_fp: 14.0000 - val_tn: 9346.0000 - val_fn: 1559.0000 - val_accuracy: 0.8560 - val_precision: 0.0667 - val_recall: 6.4103e-04 - val_auc: 0.8431\n",
      "WARNING:tensorflow:Early stopping conditioned on metric `val_aux` which is not available. Available metrics are: loss,tp,fp,tn,fn,accuracy,precision,recall,auc,val_loss,val_tp,val_fp,val_tn,val_fn,val_accuracy,val_precision,val_recall,val_auc\n",
      "Epoch 11/50\n",
      "2/2 [==============================] - 0s 163ms/step - loss: 1.4332 - tp: 502.3333 - fp: 615.0000 - tn: 18933.0000 - fn: 2755.6667 - accuracy: 0.8523 - precision: 0.4505 - recall: 0.1545 - auc: 0.8266 - val_loss: 1.3527 - val_tp: 0.0000e+00 - val_fp: 13.0000 - val_tn: 9347.0000 - val_fn: 1560.0000 - val_accuracy: 0.8560 - val_precision: 0.0000e+00 - val_recall: 0.0000e+00 - val_auc: 0.8438\n",
      "WARNING:tensorflow:Early stopping conditioned on metric `val_aux` which is not available. Available metrics are: loss,tp,fp,tn,fn,accuracy,precision,recall,auc,val_loss,val_tp,val_fp,val_tn,val_fn,val_accuracy,val_precision,val_recall,val_auc\n",
      "Epoch 12/50\n",
      "2/2 [==============================] - 0s 130ms/step - loss: 1.4235 - tp: 488.0000 - fp: 635.6667 - tn: 18912.3333 - fn: 2770.0000 - accuracy: 0.8506 - precision: 0.4336 - recall: 0.1493 - auc: 0.8281 - val_loss: 1.3448 - val_tp: 0.0000e+00 - val_fp: 13.0000 - val_tn: 9347.0000 - val_fn: 1560.0000 - val_accuracy: 0.8560 - val_precision: 0.0000e+00 - val_recall: 0.0000e+00 - val_auc: 0.8448\n",
      "WARNING:tensorflow:Early stopping conditioned on metric `val_aux` which is not available. Available metrics are: loss,tp,fp,tn,fn,accuracy,precision,recall,auc,val_loss,val_tp,val_fp,val_tn,val_fn,val_accuracy,val_precision,val_recall,val_auc\n",
      "Epoch 13/50\n",
      "2/2 [==============================] - 0s 155ms/step - loss: 1.4192 - tp: 529.0000 - fp: 649.3333 - tn: 18898.6667 - fn: 2729.0000 - accuracy: 0.8518 - precision: 0.4482 - recall: 0.1621 - auc: 0.8288 - val_loss: 1.3383 - val_tp: 1.0000 - val_fp: 12.0000 - val_tn: 9348.0000 - val_fn: 1559.0000 - val_accuracy: 0.8561 - val_precision: 0.0769 - val_recall: 6.4103e-04 - val_auc: 0.8461\n",
      "WARNING:tensorflow:Early stopping conditioned on metric `val_aux` which is not available. Available metrics are: loss,tp,fp,tn,fn,accuracy,precision,recall,auc,val_loss,val_tp,val_fp,val_tn,val_fn,val_accuracy,val_precision,val_recall,val_auc\n"
     ]
    },
    {
     "name": "stdout",
     "output_type": "stream",
     "text": [
      "Epoch 14/50\n",
      "2/2 [==============================] - 0s 137ms/step - loss: 1.4053 - tp: 518.3333 - fp: 682.0000 - tn: 18866.0000 - fn: 2739.6667 - accuracy: 0.8499 - precision: 0.4315 - recall: 0.1591 - auc: 0.8318 - val_loss: 1.3328 - val_tp: 1.0000 - val_fp: 11.0000 - val_tn: 9349.0000 - val_fn: 1559.0000 - val_accuracy: 0.8562 - val_precision: 0.0833 - val_recall: 6.4103e-04 - val_auc: 0.8474\n",
      "WARNING:tensorflow:Early stopping conditioned on metric `val_aux` which is not available. Available metrics are: loss,tp,fp,tn,fn,accuracy,precision,recall,auc,val_loss,val_tp,val_fp,val_tn,val_fn,val_accuracy,val_precision,val_recall,val_auc\n",
      "Epoch 15/50\n",
      "2/2 [==============================] - 0s 108ms/step - loss: 1.4135 - tp: 509.0000 - fp: 683.3333 - tn: 18864.6667 - fn: 2749.0000 - accuracy: 0.8495 - precision: 0.4272 - recall: 0.1562 - auc: 0.8286 - val_loss: 1.3278 - val_tp: 1.0000 - val_fp: 11.0000 - val_tn: 9349.0000 - val_fn: 1559.0000 - val_accuracy: 0.8562 - val_precision: 0.0833 - val_recall: 6.4103e-04 - val_auc: 0.8487\n",
      "WARNING:tensorflow:Early stopping conditioned on metric `val_aux` which is not available. Available metrics are: loss,tp,fp,tn,fn,accuracy,precision,recall,auc,val_loss,val_tp,val_fp,val_tn,val_fn,val_accuracy,val_precision,val_recall,val_auc\n",
      "Epoch 16/50\n",
      "2/2 [==============================] - 0s 152ms/step - loss: 1.4026 - tp: 559.3333 - fp: 623.3333 - tn: 18924.6667 - fn: 2698.6667 - accuracy: 0.8543 - precision: 0.4730 - recall: 0.1715 - auc: 0.8321 - val_loss: 1.3235 - val_tp: 1.0000 - val_fp: 13.0000 - val_tn: 9347.0000 - val_fn: 1559.0000 - val_accuracy: 0.8560 - val_precision: 0.0714 - val_recall: 6.4103e-04 - val_auc: 0.8497\n",
      "WARNING:tensorflow:Early stopping conditioned on metric `val_aux` which is not available. Available metrics are: loss,tp,fp,tn,fn,accuracy,precision,recall,auc,val_loss,val_tp,val_fp,val_tn,val_fn,val_accuracy,val_precision,val_recall,val_auc\n",
      "Epoch 17/50\n",
      "2/2 [==============================] - 0s 172ms/step - loss: 1.4021 - tp: 521.3333 - fp: 650.0000 - tn: 18898.0000 - fn: 2736.6667 - accuracy: 0.8516 - precision: 0.4458 - recall: 0.1605 - auc: 0.8312 - val_loss: 1.3198 - val_tp: 1.0000 - val_fp: 14.0000 - val_tn: 9346.0000 - val_fn: 1559.0000 - val_accuracy: 0.8560 - val_precision: 0.0667 - val_recall: 6.4103e-04 - val_auc: 0.8506\n",
      "WARNING:tensorflow:Early stopping conditioned on metric `val_aux` which is not available. Available metrics are: loss,tp,fp,tn,fn,accuracy,precision,recall,auc,val_loss,val_tp,val_fp,val_tn,val_fn,val_accuracy,val_precision,val_recall,val_auc\n",
      "Epoch 18/50\n",
      "2/2 [==============================] - 0s 164ms/step - loss: 1.3809 - tp: 574.3333 - fp: 642.0000 - tn: 18906.0000 - fn: 2683.6667 - accuracy: 0.8542 - precision: 0.4726 - recall: 0.1766 - auc: 0.8368 - val_loss: 1.3165 - val_tp: 1.0000 - val_fp: 14.0000 - val_tn: 9346.0000 - val_fn: 1559.0000 - val_accuracy: 0.8560 - val_precision: 0.0667 - val_recall: 6.4103e-04 - val_auc: 0.8514\n",
      "WARNING:tensorflow:Early stopping conditioned on metric `val_aux` which is not available. Available metrics are: loss,tp,fp,tn,fn,accuracy,precision,recall,auc,val_loss,val_tp,val_fp,val_tn,val_fn,val_accuracy,val_precision,val_recall,val_auc\n",
      "Epoch 19/50\n",
      "2/2 [==============================] - 0s 153ms/step - loss: 1.3765 - tp: 545.3333 - fp: 621.0000 - tn: 18927.0000 - fn: 2712.6667 - accuracy: 0.8538 - precision: 0.4670 - recall: 0.1671 - auc: 0.8376 - val_loss: 1.3136 - val_tp: 2.0000 - val_fp: 16.0000 - val_tn: 9344.0000 - val_fn: 1558.0000 - val_accuracy: 0.8559 - val_precision: 0.1111 - val_recall: 0.0013 - val_auc: 0.8524\n",
      "WARNING:tensorflow:Early stopping conditioned on metric `val_aux` which is not available. Available metrics are: loss,tp,fp,tn,fn,accuracy,precision,recall,auc,val_loss,val_tp,val_fp,val_tn,val_fn,val_accuracy,val_precision,val_recall,val_auc\n",
      "Epoch 20/50\n",
      "2/2 [==============================] - 0s 164ms/step - loss: 1.3534 - tp: 531.3333 - fp: 556.3333 - tn: 18991.6667 - fn: 2726.6667 - accuracy: 0.8562 - precision: 0.4898 - recall: 0.1638 - auc: 0.8442 - val_loss: 1.3110 - val_tp: 4.0000 - val_fp: 16.0000 - val_tn: 9344.0000 - val_fn: 1556.0000 - val_accuracy: 0.8560 - val_precision: 0.2000 - val_recall: 0.0026 - val_auc: 0.8537\n",
      "WARNING:tensorflow:Early stopping conditioned on metric `val_aux` which is not available. Available metrics are: loss,tp,fp,tn,fn,accuracy,precision,recall,auc,val_loss,val_tp,val_fp,val_tn,val_fn,val_accuracy,val_precision,val_recall,val_auc\n",
      "Epoch 21/50\n",
      "2/2 [==============================] - 0s 147ms/step - loss: 1.3683 - tp: 493.3333 - fp: 582.3333 - tn: 18965.6667 - fn: 2764.6667 - accuracy: 0.8532 - precision: 0.4582 - recall: 0.1513 - auc: 0.8404 - val_loss: 1.3085 - val_tp: 4.0000 - val_fp: 16.0000 - val_tn: 9344.0000 - val_fn: 1556.0000 - val_accuracy: 0.8560 - val_precision: 0.2000 - val_recall: 0.0026 - val_auc: 0.8546\n",
      "WARNING:tensorflow:Early stopping conditioned on metric `val_aux` which is not available. Available metrics are: loss,tp,fp,tn,fn,accuracy,precision,recall,auc,val_loss,val_tp,val_fp,val_tn,val_fn,val_accuracy,val_precision,val_recall,val_auc\n",
      "Epoch 22/50\n",
      "2/2 [==============================] - 0s 140ms/step - loss: 1.3748 - tp: 460.3333 - fp: 516.3333 - tn: 19031.6667 - fn: 2797.6667 - accuracy: 0.8548 - precision: 0.4721 - recall: 0.1414 - auc: 0.8382 - val_loss: 1.3061 - val_tp: 4.0000 - val_fp: 18.0000 - val_tn: 9342.0000 - val_fn: 1556.0000 - val_accuracy: 0.8559 - val_precision: 0.1818 - val_recall: 0.0026 - val_auc: 0.8550\n",
      "WARNING:tensorflow:Early stopping conditioned on metric `val_aux` which is not available. Available metrics are: loss,tp,fp,tn,fn,accuracy,precision,recall,auc,val_loss,val_tp,val_fp,val_tn,val_fn,val_accuracy,val_precision,val_recall,val_auc\n",
      "Epoch 23/50\n",
      "2/2 [==============================] - 0s 188ms/step - loss: 1.3672 - tp: 473.6667 - fp: 576.6667 - tn: 18971.3333 - fn: 2784.3333 - accuracy: 0.8526 - precision: 0.4508 - recall: 0.1452 - auc: 0.8400 - val_loss: 1.3039 - val_tp: 4.0000 - val_fp: 20.0000 - val_tn: 9340.0000 - val_fn: 1556.0000 - val_accuracy: 0.8557 - val_precision: 0.1667 - val_recall: 0.0026 - val_auc: 0.8559\n",
      "WARNING:tensorflow:Early stopping conditioned on metric `val_aux` which is not available. Available metrics are: loss,tp,fp,tn,fn,accuracy,precision,recall,auc,val_loss,val_tp,val_fp,val_tn,val_fn,val_accuracy,val_precision,val_recall,val_auc\n",
      "Epoch 24/50\n",
      "2/2 [==============================] - 0s 153ms/step - loss: 1.3434 - tp: 488.6667 - fp: 514.0000 - tn: 19034.0000 - fn: 2769.3333 - accuracy: 0.8561 - precision: 0.4880 - recall: 0.1500 - auc: 0.8467 - val_loss: 1.3015 - val_tp: 4.0000 - val_fp: 27.0000 - val_tn: 9333.0000 - val_fn: 1556.0000 - val_accuracy: 0.8550 - val_precision: 0.1290 - val_recall: 0.0026 - val_auc: 0.8566\n",
      "WARNING:tensorflow:Early stopping conditioned on metric `val_aux` which is not available. Available metrics are: loss,tp,fp,tn,fn,accuracy,precision,recall,auc,val_loss,val_tp,val_fp,val_tn,val_fn,val_accuracy,val_precision,val_recall,val_auc\n",
      "Epoch 25/50\n",
      "2/2 [==============================] - 0s 163ms/step - loss: 1.3494 - tp: 497.0000 - fp: 519.0000 - tn: 19029.0000 - fn: 2761.0000 - accuracy: 0.8561 - precision: 0.4883 - recall: 0.1523 - auc: 0.8455 - val_loss: 1.2989 - val_tp: 7.0000 - val_fp: 28.0000 - val_tn: 9332.0000 - val_fn: 1553.0000 - val_accuracy: 0.8552 - val_precision: 0.2000 - val_recall: 0.0045 - val_auc: 0.8579\n",
      "WARNING:tensorflow:Early stopping conditioned on metric `val_aux` which is not available. Available metrics are: loss,tp,fp,tn,fn,accuracy,precision,recall,auc,val_loss,val_tp,val_fp,val_tn,val_fn,val_accuracy,val_precision,val_recall,val_auc\n",
      "Epoch 26/50\n",
      "2/2 [==============================] - 0s 152ms/step - loss: 1.3546 - tp: 484.6667 - fp: 530.0000 - tn: 19018.0000 - fn: 2773.3333 - accuracy: 0.8551 - precision: 0.4776 - recall: 0.1487 - auc: 0.8433 - val_loss: 1.2961 - val_tp: 9.0000 - val_fp: 33.0000 - val_tn: 9327.0000 - val_fn: 1551.0000 - val_accuracy: 0.8549 - val_precision: 0.2143 - val_recall: 0.0058 - val_auc: 0.8592\n",
      "WARNING:tensorflow:Early stopping conditioned on metric `val_aux` which is not available. Available metrics are: loss,tp,fp,tn,fn,accuracy,precision,recall,auc,val_loss,val_tp,val_fp,val_tn,val_fn,val_accuracy,val_precision,val_recall,val_auc\n"
     ]
    },
    {
     "name": "stdout",
     "output_type": "stream",
     "text": [
      "Epoch 27/50\n",
      "2/2 [==============================] - 0s 148ms/step - loss: 1.3431 - tp: 479.0000 - fp: 483.3333 - tn: 19064.6667 - fn: 2779.0000 - accuracy: 0.8569 - precision: 0.4969 - recall: 0.1465 - auc: 0.8464 - val_loss: 1.2928 - val_tp: 17.0000 - val_fp: 40.0000 - val_tn: 9320.0000 - val_fn: 1543.0000 - val_accuracy: 0.8550 - val_precision: 0.2982 - val_recall: 0.0109 - val_auc: 0.8601\n",
      "WARNING:tensorflow:Early stopping conditioned on metric `val_aux` which is not available. Available metrics are: loss,tp,fp,tn,fn,accuracy,precision,recall,auc,val_loss,val_tp,val_fp,val_tn,val_fn,val_accuracy,val_precision,val_recall,val_auc\n",
      "Epoch 28/50\n",
      "2/2 [==============================] - 0s 130ms/step - loss: 1.3552 - tp: 507.6667 - fp: 540.6667 - tn: 19007.3333 - fn: 2750.3333 - accuracy: 0.8556 - precision: 0.4833 - recall: 0.1555 - auc: 0.8442 - val_loss: 1.2897 - val_tp: 22.0000 - val_fp: 47.0000 - val_tn: 9313.0000 - val_fn: 1538.0000 - val_accuracy: 0.8549 - val_precision: 0.3188 - val_recall: 0.0141 - val_auc: 0.8608\n",
      "WARNING:tensorflow:Early stopping conditioned on metric `val_aux` which is not available. Available metrics are: loss,tp,fp,tn,fn,accuracy,precision,recall,auc,val_loss,val_tp,val_fp,val_tn,val_fn,val_accuracy,val_precision,val_recall,val_auc\n",
      "Epoch 29/50\n",
      "2/2 [==============================] - 0s 134ms/step - loss: 1.3289 - tp: 518.6667 - fp: 503.0000 - tn: 19045.0000 - fn: 2739.3333 - accuracy: 0.8579 - precision: 0.5089 - recall: 0.1597 - auc: 0.8507 - val_loss: 1.2863 - val_tp: 32.0000 - val_fp: 49.0000 - val_tn: 9311.0000 - val_fn: 1528.0000 - val_accuracy: 0.8556 - val_precision: 0.3951 - val_recall: 0.0205 - val_auc: 0.8616\n",
      "WARNING:tensorflow:Early stopping conditioned on metric `val_aux` which is not available. Available metrics are: loss,tp,fp,tn,fn,accuracy,precision,recall,auc,val_loss,val_tp,val_fp,val_tn,val_fn,val_accuracy,val_precision,val_recall,val_auc\n",
      "Epoch 30/50\n",
      "2/2 [==============================] - 0s 149ms/step - loss: 1.3276 - tp: 536.0000 - fp: 535.0000 - tn: 19013.0000 - fn: 2722.0000 - accuracy: 0.8572 - precision: 0.5006 - recall: 0.1644 - auc: 0.8509 - val_loss: 1.2828 - val_tp: 29.0000 - val_fp: 50.0000 - val_tn: 9310.0000 - val_fn: 1531.0000 - val_accuracy: 0.8552 - val_precision: 0.3671 - val_recall: 0.0186 - val_auc: 0.8621\n",
      "WARNING:tensorflow:Early stopping conditioned on metric `val_aux` which is not available. Available metrics are: loss,tp,fp,tn,fn,accuracy,precision,recall,auc,val_loss,val_tp,val_fp,val_tn,val_fn,val_accuracy,val_precision,val_recall,val_auc\n",
      "Epoch 31/50\n",
      "2/2 [==============================] - 0s 131ms/step - loss: 1.3226 - tp: 529.6667 - fp: 524.3333 - tn: 19023.6667 - fn: 2728.3333 - accuracy: 0.8574 - precision: 0.5031 - recall: 0.1623 - auc: 0.8516 - val_loss: 1.2793 - val_tp: 28.0000 - val_fp: 46.0000 - val_tn: 9314.0000 - val_fn: 1532.0000 - val_accuracy: 0.8555 - val_precision: 0.3784 - val_recall: 0.0179 - val_auc: 0.8629\n",
      "WARNING:tensorflow:Early stopping conditioned on metric `val_aux` which is not available. Available metrics are: loss,tp,fp,tn,fn,accuracy,precision,recall,auc,val_loss,val_tp,val_fp,val_tn,val_fn,val_accuracy,val_precision,val_recall,val_auc\n",
      "Epoch 32/50\n",
      "2/2 [==============================] - 0s 149ms/step - loss: 1.3197 - tp: 549.6667 - fp: 525.3333 - tn: 19022.6667 - fn: 2708.3333 - accuracy: 0.8582 - precision: 0.5111 - recall: 0.1686 - auc: 0.8520 - val_loss: 1.2760 - val_tp: 21.0000 - val_fp: 43.0000 - val_tn: 9317.0000 - val_fn: 1539.0000 - val_accuracy: 0.8551 - val_precision: 0.3281 - val_recall: 0.0135 - val_auc: 0.8634\n",
      "WARNING:tensorflow:Early stopping conditioned on metric `val_aux` which is not available. Available metrics are: loss,tp,fp,tn,fn,accuracy,precision,recall,auc,val_loss,val_tp,val_fp,val_tn,val_fn,val_accuracy,val_precision,val_recall,val_auc\n",
      "Epoch 33/50\n",
      "2/2 [==============================] - 0s 132ms/step - loss: 1.3154 - tp: 548.6667 - fp: 522.3333 - tn: 19025.6667 - fn: 2709.3333 - accuracy: 0.8583 - precision: 0.5126 - recall: 0.1683 - auc: 0.8535 - val_loss: 1.2729 - val_tp: 23.0000 - val_fp: 43.0000 - val_tn: 9317.0000 - val_fn: 1537.0000 - val_accuracy: 0.8553 - val_precision: 0.3485 - val_recall: 0.0147 - val_auc: 0.8639\n",
      "WARNING:tensorflow:Early stopping conditioned on metric `val_aux` which is not available. Available metrics are: loss,tp,fp,tn,fn,accuracy,precision,recall,auc,val_loss,val_tp,val_fp,val_tn,val_fn,val_accuracy,val_precision,val_recall,val_auc\n",
      "Epoch 34/50\n",
      "2/2 [==============================] - 0s 139ms/step - loss: 1.3136 - tp: 545.6667 - fp: 543.3333 - tn: 19004.6667 - fn: 2712.3333 - accuracy: 0.8573 - precision: 0.5021 - recall: 0.1677 - auc: 0.8527 - val_loss: 1.2700 - val_tp: 28.0000 - val_fp: 44.0000 - val_tn: 9316.0000 - val_fn: 1532.0000 - val_accuracy: 0.8557 - val_precision: 0.3889 - val_recall: 0.0179 - val_auc: 0.8648\n",
      "WARNING:tensorflow:Early stopping conditioned on metric `val_aux` which is not available. Available metrics are: loss,tp,fp,tn,fn,accuracy,precision,recall,auc,val_loss,val_tp,val_fp,val_tn,val_fn,val_accuracy,val_precision,val_recall,val_auc\n",
      "Epoch 35/50\n",
      "2/2 [==============================] - 0s 115ms/step - loss: 1.3347 - tp: 536.6667 - fp: 581.6667 - tn: 18966.3333 - fn: 2721.3333 - accuracy: 0.8550 - precision: 0.4786 - recall: 0.1644 - auc: 0.8491 - val_loss: 1.2674 - val_tp: 27.0000 - val_fp: 46.0000 - val_tn: 9314.0000 - val_fn: 1533.0000 - val_accuracy: 0.8554 - val_precision: 0.3699 - val_recall: 0.0173 - val_auc: 0.8655\n",
      "WARNING:tensorflow:Early stopping conditioned on metric `val_aux` which is not available. Available metrics are: loss,tp,fp,tn,fn,accuracy,precision,recall,auc,val_loss,val_tp,val_fp,val_tn,val_fn,val_accuracy,val_precision,val_recall,val_auc\n",
      "Epoch 36/50\n",
      "2/2 [==============================] - 0s 188ms/step - loss: 1.3023 - tp: 579.0000 - fp: 561.0000 - tn: 18987.0000 - fn: 2679.0000 - accuracy: 0.8580 - precision: 0.5086 - recall: 0.1778 - auc: 0.8561 - val_loss: 1.2649 - val_tp: 33.0000 - val_fp: 47.0000 - val_tn: 9313.0000 - val_fn: 1527.0000 - val_accuracy: 0.8559 - val_precision: 0.4125 - val_recall: 0.0212 - val_auc: 0.8663\n",
      "WARNING:tensorflow:Early stopping conditioned on metric `val_aux` which is not available. Available metrics are: loss,tp,fp,tn,fn,accuracy,precision,recall,auc,val_loss,val_tp,val_fp,val_tn,val_fn,val_accuracy,val_precision,val_recall,val_auc\n",
      "Epoch 37/50\n",
      "2/2 [==============================] - 0s 172ms/step - loss: 1.3071 - tp: 558.6667 - fp: 547.6667 - tn: 19000.3333 - fn: 2699.3333 - accuracy: 0.8576 - precision: 0.5046 - recall: 0.1714 - auc: 0.8546 - val_loss: 1.2625 - val_tp: 36.0000 - val_fp: 49.0000 - val_tn: 9311.0000 - val_fn: 1524.0000 - val_accuracy: 0.8560 - val_precision: 0.4235 - val_recall: 0.0231 - val_auc: 0.8673\n",
      "WARNING:tensorflow:Early stopping conditioned on metric `val_aux` which is not available. Available metrics are: loss,tp,fp,tn,fn,accuracy,precision,recall,auc,val_loss,val_tp,val_fp,val_tn,val_fn,val_accuracy,val_precision,val_recall,val_auc\n",
      "Epoch 38/50\n",
      "2/2 [==============================] - 0s 175ms/step - loss: 1.3062 - tp: 559.6667 - fp: 554.0000 - tn: 18994.0000 - fn: 2698.3333 - accuracy: 0.8574 - precision: 0.5030 - recall: 0.1718 - auc: 0.8556 - val_loss: 1.2605 - val_tp: 38.0000 - val_fp: 62.0000 - val_tn: 9298.0000 - val_fn: 1522.0000 - val_accuracy: 0.8549 - val_precision: 0.3800 - val_recall: 0.0244 - val_auc: 0.8675\n",
      "WARNING:tensorflow:Early stopping conditioned on metric `val_aux` which is not available. Available metrics are: loss,tp,fp,tn,fn,accuracy,precision,recall,auc,val_loss,val_tp,val_fp,val_tn,val_fn,val_accuracy,val_precision,val_recall,val_auc\n",
      "Epoch 39/50\n",
      "2/2 [==============================] - 0s 153ms/step - loss: 1.2964 - tp: 608.6667 - fp: 561.0000 - tn: 18987.0000 - fn: 2649.3333 - accuracy: 0.8592 - precision: 0.5200 - recall: 0.1868 - auc: 0.8584 - val_loss: 1.2584 - val_tp: 39.0000 - val_fp: 63.0000 - val_tn: 9297.0000 - val_fn: 1521.0000 - val_accuracy: 0.8549 - val_precision: 0.3824 - val_recall: 0.0250 - val_auc: 0.8680\n",
      "WARNING:tensorflow:Early stopping conditioned on metric `val_aux` which is not available. Available metrics are: loss,tp,fp,tn,fn,accuracy,precision,recall,auc,val_loss,val_tp,val_fp,val_tn,val_fn,val_accuracy,val_precision,val_recall,val_auc\n"
     ]
    },
    {
     "name": "stdout",
     "output_type": "stream",
     "text": [
      "Epoch 40/50\n",
      "2/2 [==============================] - 0s 156ms/step - loss: 1.2981 - tp: 585.6667 - fp: 565.0000 - tn: 18983.0000 - fn: 2672.3333 - accuracy: 0.8579 - precision: 0.5079 - recall: 0.1796 - auc: 0.8573 - val_loss: 1.2562 - val_tp: 47.0000 - val_fp: 68.0000 - val_tn: 9292.0000 - val_fn: 1513.0000 - val_accuracy: 0.8552 - val_precision: 0.4087 - val_recall: 0.0301 - val_auc: 0.8682\n",
      "WARNING:tensorflow:Early stopping conditioned on metric `val_aux` which is not available. Available metrics are: loss,tp,fp,tn,fn,accuracy,precision,recall,auc,val_loss,val_tp,val_fp,val_tn,val_fn,val_accuracy,val_precision,val_recall,val_auc\n",
      "Epoch 41/50\n",
      "2/2 [==============================] - 0s 145ms/step - loss: 1.3010 - tp: 595.6667 - fp: 597.3333 - tn: 18950.6667 - fn: 2662.3333 - accuracy: 0.8569 - precision: 0.4979 - recall: 0.1823 - auc: 0.8562 - val_loss: 1.2539 - val_tp: 57.0000 - val_fp: 77.0000 - val_tn: 9283.0000 - val_fn: 1503.0000 - val_accuracy: 0.8553 - val_precision: 0.4254 - val_recall: 0.0365 - val_auc: 0.8685\n",
      "WARNING:tensorflow:Early stopping conditioned on metric `val_aux` which is not available. Available metrics are: loss,tp,fp,tn,fn,accuracy,precision,recall,auc,val_loss,val_tp,val_fp,val_tn,val_fn,val_accuracy,val_precision,val_recall,val_auc\n",
      "Epoch 42/50\n",
      "2/2 [==============================] - 0s 189ms/step - loss: 1.2869 - tp: 613.6667 - fp: 580.0000 - tn: 18968.0000 - fn: 2644.3333 - accuracy: 0.8587 - precision: 0.5153 - recall: 0.1889 - auc: 0.8600 - val_loss: 1.2515 - val_tp: 60.0000 - val_fp: 93.0000 - val_tn: 9267.0000 - val_fn: 1500.0000 - val_accuracy: 0.8541 - val_precision: 0.3922 - val_recall: 0.0385 - val_auc: 0.8690\n",
      "WARNING:tensorflow:Early stopping conditioned on metric `val_aux` which is not available. Available metrics are: loss,tp,fp,tn,fn,accuracy,precision,recall,auc,val_loss,val_tp,val_fp,val_tn,val_fn,val_accuracy,val_precision,val_recall,val_auc\n",
      "Epoch 43/50\n",
      "2/2 [==============================] - 0s 169ms/step - loss: 1.2969 - tp: 624.6667 - fp: 631.0000 - tn: 18917.0000 - fn: 2633.3333 - accuracy: 0.8568 - precision: 0.4971 - recall: 0.1916 - auc: 0.8577 - val_loss: 1.2491 - val_tp: 60.0000 - val_fp: 84.0000 - val_tn: 9276.0000 - val_fn: 1500.0000 - val_accuracy: 0.8549 - val_precision: 0.4167 - val_recall: 0.0385 - val_auc: 0.8694\n",
      "WARNING:tensorflow:Early stopping conditioned on metric `val_aux` which is not available. Available metrics are: loss,tp,fp,tn,fn,accuracy,precision,recall,auc,val_loss,val_tp,val_fp,val_tn,val_fn,val_accuracy,val_precision,val_recall,val_auc\n",
      "Epoch 44/50\n",
      "2/2 [==============================] - 0s 125ms/step - loss: 1.2835 - tp: 660.0000 - fp: 577.0000 - tn: 18971.0000 - fn: 2598.0000 - accuracy: 0.8608 - precision: 0.5337 - recall: 0.2023 - auc: 0.8608 - val_loss: 1.2468 - val_tp: 61.0000 - val_fp: 81.0000 - val_tn: 9279.0000 - val_fn: 1499.0000 - val_accuracy: 0.8553 - val_precision: 0.4296 - val_recall: 0.0391 - val_auc: 0.8698\n",
      "WARNING:tensorflow:Early stopping conditioned on metric `val_aux` which is not available. Available metrics are: loss,tp,fp,tn,fn,accuracy,precision,recall,auc,val_loss,val_tp,val_fp,val_tn,val_fn,val_accuracy,val_precision,val_recall,val_auc\n",
      "Epoch 45/50\n",
      "2/2 [==============================] - 0s 121ms/step - loss: 1.2888 - tp: 630.6667 - fp: 632.3333 - tn: 18915.6667 - fn: 2627.3333 - accuracy: 0.8570 - precision: 0.4983 - recall: 0.1931 - auc: 0.8593 - val_loss: 1.2444 - val_tp: 54.0000 - val_fp: 77.0000 - val_tn: 9283.0000 - val_fn: 1506.0000 - val_accuracy: 0.8550 - val_precision: 0.4122 - val_recall: 0.0346 - val_auc: 0.8705\n",
      "WARNING:tensorflow:Early stopping conditioned on metric `val_aux` which is not available. Available metrics are: loss,tp,fp,tn,fn,accuracy,precision,recall,auc,val_loss,val_tp,val_fp,val_tn,val_fn,val_accuracy,val_precision,val_recall,val_auc\n",
      "Epoch 46/50\n",
      "2/2 [==============================] - 0s 152ms/step - loss: 1.2860 - tp: 634.6667 - fp: 564.3333 - tn: 18983.6667 - fn: 2623.3333 - accuracy: 0.8603 - precision: 0.5297 - recall: 0.1944 - auc: 0.8610 - val_loss: 1.2421 - val_tp: 55.0000 - val_fp: 80.0000 - val_tn: 9280.0000 - val_fn: 1505.0000 - val_accuracy: 0.8549 - val_precision: 0.4074 - val_recall: 0.0353 - val_auc: 0.8709\n",
      "WARNING:tensorflow:Early stopping conditioned on metric `val_aux` which is not available. Available metrics are: loss,tp,fp,tn,fn,accuracy,precision,recall,auc,val_loss,val_tp,val_fp,val_tn,val_fn,val_accuracy,val_precision,val_recall,val_auc\n",
      "Epoch 47/50\n",
      "2/2 [==============================] - 0s 138ms/step - loss: 1.2861 - tp: 626.0000 - fp: 616.6667 - tn: 18931.3333 - fn: 2632.0000 - accuracy: 0.8574 - precision: 0.5027 - recall: 0.1916 - auc: 0.8595 - val_loss: 1.2399 - val_tp: 56.0000 - val_fp: 77.0000 - val_tn: 9283.0000 - val_fn: 1504.0000 - val_accuracy: 0.8552 - val_precision: 0.4211 - val_recall: 0.0359 - val_auc: 0.8712\n",
      "WARNING:tensorflow:Early stopping conditioned on metric `val_aux` which is not available. Available metrics are: loss,tp,fp,tn,fn,accuracy,precision,recall,auc,val_loss,val_tp,val_fp,val_tn,val_fn,val_accuracy,val_precision,val_recall,val_auc\n",
      "Epoch 48/50\n",
      "2/2 [==============================] - 0s 152ms/step - loss: 1.2834 - tp: 619.3333 - fp: 570.6667 - tn: 18977.3333 - fn: 2638.6667 - accuracy: 0.8592 - precision: 0.5197 - recall: 0.1895 - auc: 0.8607 - val_loss: 1.2376 - val_tp: 58.0000 - val_fp: 79.0000 - val_tn: 9281.0000 - val_fn: 1502.0000 - val_accuracy: 0.8552 - val_precision: 0.4234 - val_recall: 0.0372 - val_auc: 0.8716\n",
      "WARNING:tensorflow:Early stopping conditioned on metric `val_aux` which is not available. Available metrics are: loss,tp,fp,tn,fn,accuracy,precision,recall,auc,val_loss,val_tp,val_fp,val_tn,val_fn,val_accuracy,val_precision,val_recall,val_auc\n",
      "Epoch 49/50\n",
      "2/2 [==============================] - 0s 135ms/step - loss: 1.2749 - tp: 639.3333 - fp: 606.3333 - tn: 18941.6667 - fn: 2618.6667 - accuracy: 0.8586 - precision: 0.5133 - recall: 0.1963 - auc: 0.8634 - val_loss: 1.2351 - val_tp: 61.0000 - val_fp: 80.0000 - val_tn: 9280.0000 - val_fn: 1499.0000 - val_accuracy: 0.8554 - val_precision: 0.4326 - val_recall: 0.0391 - val_auc: 0.8720\n",
      "WARNING:tensorflow:Early stopping conditioned on metric `val_aux` which is not available. Available metrics are: loss,tp,fp,tn,fn,accuracy,precision,recall,auc,val_loss,val_tp,val_fp,val_tn,val_fn,val_accuracy,val_precision,val_recall,val_auc\n",
      "Epoch 50/50\n",
      "2/2 [==============================] - 0s 276ms/step - loss: 1.2719 - tp: 645.0000 - fp: 626.6667 - tn: 18921.3333 - fn: 2613.0000 - accuracy: 0.8578 - precision: 0.5056 - recall: 0.1976 - auc: 0.8632 - val_loss: 1.2327 - val_tp: 71.0000 - val_fp: 81.0000 - val_tn: 9279.0000 - val_fn: 1489.0000 - val_accuracy: 0.8562 - val_precision: 0.4671 - val_recall: 0.0455 - val_auc: 0.8723\n",
      "WARNING:tensorflow:Early stopping conditioned on metric `val_aux` which is not available. Available metrics are: loss,tp,fp,tn,fn,accuracy,precision,recall,auc,val_loss,val_tp,val_fp,val_tn,val_fn,val_accuracy,val_precision,val_recall,val_auc\n"
     ]
    }
   ],
   "source": [
    "\n",
    "weighted_history = weighted_model.fit(\n",
    "    X_train,\n",
    "    train_target,\n",
    "    batch_size=BATCH_SIZE,\n",
    "    epochs=50,\n",
    "    callbacks=[early_stopping],\n",
    "    validation_split=0.3,\n",
    "    # The class weights go here\n",
    "    class_weight=class_weights)\n"
   ]
  },
  {
   "cell_type": "code",
   "execution_count": 15,
   "metadata": {},
   "outputs": [
    {
     "name": "stdout",
     "output_type": "stream",
     "text": [
      "41/41 [==============================] - 0s 2ms/step - loss: 1.1415 - tp: 86.0000 - fp: 69.0000 - tn: 7731.0000 - fn: 1214.0000 - accuracy: 0.8590 - precision: 0.5548 - recall: 0.0662 - auc: 0.8959 \n"
     ]
    },
    {
     "data": {
      "text/plain": [
       "[1.1415090560913086,\n",
       " 86.0,\n",
       " 69.0,\n",
       " 7731.0,\n",
       " 1214.0,\n",
       " 0.8590110540390015,\n",
       " 0.5548387169837952,\n",
       " 0.06615384668111801,\n",
       " 0.895861029624939]"
      ]
     },
     "execution_count": 15,
     "metadata": {},
     "output_type": "execute_result"
    }
   ],
   "source": [
    "weighted_model.evaluate(X_test,test_target)"
   ]
  },
  {
   "cell_type": "code",
   "execution_count": 16,
   "metadata": {},
   "outputs": [
    {
     "data": {
      "image/png": "[encoded data removed]",
      "text/plain": [
       "<Figure size 864x720 with 4 Axes>"
      ]
     },
     "metadata": {
      "needs_background": "light"
     },
     "output_type": "display_data"
    }
   ],
   "source": [
    "plot_metrics(weighted_history)"
   ]
  },
  {
   "cell_type": "code",
   "execution_count": 17,
   "metadata": {},
   "outputs": [],
   "source": [
    "data = {\n",
    "\"true_pos\": weighted_history.history[\"tp\"],\n",
    "#\"true_neg\" :weighted_history.history[\"tn\"],\n",
    "\"fals_pos\" : weighted_history.history[\"fp\"],\n",
    "\"false_neg\" :weighted_history.history[\"fn\"],\n",
    "}"
   ]
  },
  {
   "cell_type": "code",
   "execution_count": 18,
   "metadata": {
    "scrolled": true
   },
   "outputs": [],
   "source": [
    "measures = pd.DataFrame(data )"
   ]
  },
  {
   "cell_type": "code",
   "execution_count": 19,
   "metadata": {},
   "outputs": [
    {
     "data": {
      "text/plain": [
       "<AxesSubplot:>"
      ]
     },
     "execution_count": 19,
     "metadata": {},
     "output_type": "execute_result"
    },
    {
     "data": {
      "image/png": "[encoded data removed]",
      "text/plain": [
       "<Figure size 864x720 with 1 Axes>"
      ]
     },
     "metadata": {
      "needs_background": "light"
     },
     "output_type": "display_data"
    }
   ],
   "source": [
    "sns.lineplot(data=measures)"
   ]
  },
  {
   "cell_type": "code",
   "execution_count": 20,
   "metadata": {},
   "outputs": [
    {
     "name": "stdout",
     "output_type": "stream",
     "text": [
      "Confusion Matrix\n",
      "\n"
     ]
    },
    {
     "data": {
      "text/plain": [
       "array([[  0,   0,   0,   2,   0,   0],\n",
       "       [  0,   0,  16,  17,   0,   0],\n",
       "       [  0,   0, 169, 195,   0,   0],\n",
       "       [  0,   0, 101, 553,   0,   0],\n",
       "       [  0,   0,  25, 191,   0,   0],\n",
       "       [  0,   0,   8,  23,   0,   0]], dtype=int64)"
      ]
     },
     "execution_count": 20,
     "metadata": {},
     "output_type": "execute_result"
    }
   ],
   "source": [
    "pred = weighted_model.predict(X_test)\n",
    "confusion = confusion_matrix(test_target.argmax(axis=1), pred.argmax(axis=1))\n",
    "print('Confusion Matrix\\n')\n",
    "confusion"
   ]
  },
  {
   "cell_type": "code",
   "execution_count": 21,
   "metadata": {},
   "outputs": [
    {
     "data": {
      "text/plain": [
       "array([3, 2, 3, 3, 3], dtype=int64)"
      ]
     },
     "execution_count": 21,
     "metadata": {},
     "output_type": "execute_result"
    }
   ],
   "source": [
    "weighted_model.predict(X_test[:5]).argmax(axis=1)"
   ]
  },
  {
   "cell_type": "code",
   "execution_count": 22,
   "metadata": {},
   "outputs": [
    {
     "data": {
      "text/plain": [
       "array([4, 3, 3, 4, 3], dtype=int64)"
      ]
     },
     "execution_count": 22,
     "metadata": {},
     "output_type": "execute_result"
    }
   ],
   "source": [
    "test_target[:5].argmax(axis=1)"
   ]
  },
  {
   "cell_type": "markdown",
   "metadata": {},
   "source": [
    "# k-Fold Cross-Validating Neural Networks"
   ]
  },
  {
   "cell_type": "markdown",
   "metadata": {},
   "source": [
    "[method here](https://chrisalbon.com/deep_learning/keras/k-fold_cross-validating_neural_networks/)"
   ]
  },
  {
   "cell_type": "code",
   "execution_count": 23,
   "metadata": {},
   "outputs": [],
   "source": [
    "from tensorflow.keras.wrappers.scikit_learn import KerasClassifier\n",
    "from sklearn.model_selection import cross_val_score\n",
    "from sklearn.datasets import make_classification"
   ]
  },
  {
   "cell_type": "code",
   "execution_count": 24,
   "metadata": {},
   "outputs": [],
   "source": [
    "neural_network = KerasClassifier(build_fn=make_model,\n",
    "                                 epochs=30, \n",
    "                                 batch_size=2500,\n",
    "                                 #class_weight=class_weights,\n",
    "                                 verbose=0)"
   ]
  },
  {
   "cell_type": "code",
   "execution_count": 25,
   "metadata": {},
   "outputs": [],
   "source": [
    "#features =  wine_modif.drop(\"quality\",axis=1).values\n",
    "#target = wine_modif[\"quality\"].values"
   ]
  },
  {
   "cell_type": "code",
   "execution_count": 26,
   "metadata": {},
   "outputs": [
    {
     "data": {
      "text/plain": [
       "array([0.85714209, 0.85689467, 0.8565647 ])"
      ]
     },
     "execution_count": 26,
     "metadata": {},
     "output_type": "execute_result"
    }
   ],
   "source": [
    "# Evaluate neural network using three-fold cross-validation\n",
    "cross_val_score(neural_network, X_train, train_target, cv=3)"
   ]
  },
  {
   "cell_type": "code",
   "execution_count": null,
   "metadata": {},
   "outputs": [],
   "source": []
  }
 ],
 "metadata": {
  "kernelspec": {
   "display_name": "becode_deep",
   "language": "python",
   "name": "becode_deep"
  },
  "language_info": {
   "codemirror_mode": {
    "name": "ipython",
    "version": 3
   },
   "file_extension": ".py",
   "mimetype": "text/x-python",
   "name": "python",
   "nbconvert_exporter": "python",
   "pygments_lexer": "ipython3",
   "version": "3.6.7"
  }
 },
 "nbformat": 4,
 "nbformat_minor": 4
}
