{
 "cells": [
  {
   "cell_type": "code",
   "execution_count": 1,
   "metadata": {
    "scrolled": true
   },
   "outputs": [],
   "source": [
    "#imports\n",
    "import pandas as pd\n",
    "import numpy as np\n",
    "import tensorflow as tf\n",
    "from tensorflow import keras\n",
    "import matplotlib.pyplot as plt\n",
    "import seaborn as sns\n",
    "import sklearn\n",
    "from sklearn.metrics import confusion_matrix\n",
    "from sklearn.model_selection import train_test_split\n",
    "from sklearn.preprocessing import StandardScaler"
   ]
  },
  {
   "cell_type": "code",
   "execution_count": 2,
   "metadata": {},
   "outputs": [],
   "source": [
    "#set ups\n",
    "plt.rcParams['figure.figsize'] = (12, 10)"
   ]
  },
  {
   "cell_type": "code",
   "execution_count": 3,
   "metadata": {},
   "outputs": [],
   "source": [
    "#data\n",
    "PATH = '../data/wine.csv'"
   ]
  },
  {
   "cell_type": "code",
   "execution_count": 4,
   "metadata": {},
   "outputs": [],
   "source": [
    "wine = pd.read_csv(PATH)"
   ]
  },
  {
   "cell_type": "code",
   "execution_count": 5,
   "metadata": {},
   "outputs": [
    {
     "data": {
      "text/html": [
       "<div>\n",
       "<style scoped>\n",
       "    .dataframe tbody tr th:only-of-type {\n",
       "        vertical-align: middle;\n",
       "    }\n",
       "\n",
       "    .dataframe tbody tr th {\n",
       "        vertical-align: top;\n",
       "    }\n",
       "\n",
       "    .dataframe thead th {\n",
       "        text-align: right;\n",
       "    }\n",
       "</style>\n",
       "<table border=\"1\" class=\"dataframe\">\n",
       "  <thead>\n",
       "    <tr style=\"text-align: right;\">\n",
       "      <th></th>\n",
       "      <th>index</th>\n",
       "      <th>fixed acidity</th>\n",
       "      <th>volatile acidity</th>\n",
       "      <th>citric acid</th>\n",
       "      <th>residual sugar</th>\n",
       "      <th>chlorides</th>\n",
       "      <th>free sulfur dioxide</th>\n",
       "      <th>total sulfur dioxide</th>\n",
       "      <th>density</th>\n",
       "      <th>pH</th>\n",
       "      <th>sulphates</th>\n",
       "      <th>alcohol</th>\n",
       "      <th>quality</th>\n",
       "    </tr>\n",
       "  </thead>\n",
       "  <tbody>\n",
       "    <tr>\n",
       "      <th>0</th>\n",
       "      <td>0</td>\n",
       "      <td>7.4</td>\n",
       "      <td>0.70</td>\n",
       "      <td>0.00</td>\n",
       "      <td>1.9</td>\n",
       "      <td>0.076</td>\n",
       "      <td>11.0</td>\n",
       "      <td>34.0</td>\n",
       "      <td>0.9978</td>\n",
       "      <td>3.51</td>\n",
       "      <td>0.56</td>\n",
       "      <td>9.4</td>\n",
       "      <td>5</td>\n",
       "    </tr>\n",
       "    <tr>\n",
       "      <th>1</th>\n",
       "      <td>1</td>\n",
       "      <td>7.8</td>\n",
       "      <td>0.88</td>\n",
       "      <td>0.00</td>\n",
       "      <td>2.6</td>\n",
       "      <td>0.098</td>\n",
       "      <td>25.0</td>\n",
       "      <td>67.0</td>\n",
       "      <td>0.9968</td>\n",
       "      <td>3.20</td>\n",
       "      <td>0.68</td>\n",
       "      <td>9.8</td>\n",
       "      <td>5</td>\n",
       "    </tr>\n",
       "    <tr>\n",
       "      <th>2</th>\n",
       "      <td>2</td>\n",
       "      <td>7.8</td>\n",
       "      <td>0.76</td>\n",
       "      <td>0.04</td>\n",
       "      <td>2.3</td>\n",
       "      <td>0.092</td>\n",
       "      <td>15.0</td>\n",
       "      <td>54.0</td>\n",
       "      <td>0.9970</td>\n",
       "      <td>3.26</td>\n",
       "      <td>0.65</td>\n",
       "      <td>9.8</td>\n",
       "      <td>5</td>\n",
       "    </tr>\n",
       "    <tr>\n",
       "      <th>3</th>\n",
       "      <td>3</td>\n",
       "      <td>11.2</td>\n",
       "      <td>0.28</td>\n",
       "      <td>0.56</td>\n",
       "      <td>1.9</td>\n",
       "      <td>0.075</td>\n",
       "      <td>17.0</td>\n",
       "      <td>60.0</td>\n",
       "      <td>0.9980</td>\n",
       "      <td>3.16</td>\n",
       "      <td>0.58</td>\n",
       "      <td>9.8</td>\n",
       "      <td>6</td>\n",
       "    </tr>\n",
       "    <tr>\n",
       "      <th>4</th>\n",
       "      <td>4</td>\n",
       "      <td>7.4</td>\n",
       "      <td>0.70</td>\n",
       "      <td>0.00</td>\n",
       "      <td>1.9</td>\n",
       "      <td>0.076</td>\n",
       "      <td>11.0</td>\n",
       "      <td>34.0</td>\n",
       "      <td>0.9978</td>\n",
       "      <td>3.51</td>\n",
       "      <td>0.56</td>\n",
       "      <td>9.4</td>\n",
       "      <td>5</td>\n",
       "    </tr>\n",
       "  </tbody>\n",
       "</table>\n",
       "</div>"
      ],
      "text/plain": [
       "   index  fixed acidity  volatile acidity  citric acid  residual sugar  \\\n",
       "0      0            7.4              0.70         0.00             1.9   \n",
       "1      1            7.8              0.88         0.00             2.6   \n",
       "2      2            7.8              0.76         0.04             2.3   \n",
       "3      3           11.2              0.28         0.56             1.9   \n",
       "4      4            7.4              0.70         0.00             1.9   \n",
       "\n",
       "   chlorides  free sulfur dioxide  total sulfur dioxide  density    pH  \\\n",
       "0      0.076                 11.0                  34.0   0.9978  3.51   \n",
       "1      0.098                 25.0                  67.0   0.9968  3.20   \n",
       "2      0.092                 15.0                  54.0   0.9970  3.26   \n",
       "3      0.075                 17.0                  60.0   0.9980  3.16   \n",
       "4      0.076                 11.0                  34.0   0.9978  3.51   \n",
       "\n",
       "   sulphates  alcohol  quality  \n",
       "0       0.56      9.4        5  \n",
       "1       0.68      9.8        5  \n",
       "2       0.65      9.8        5  \n",
       "3       0.58      9.8        6  \n",
       "4       0.56      9.4        5  "
      ]
     },
     "execution_count": 5,
     "metadata": {},
     "output_type": "execute_result"
    }
   ],
   "source": [
    "wine.head()"
   ]
  },
  {
   "cell_type": "code",
   "execution_count": 6,
   "metadata": {},
   "outputs": [],
   "source": [
    "wine.drop(\"index\",inplace=True,axis=1)"
   ]
  },
  {
   "cell_type": "code",
   "execution_count": 7,
   "metadata": {},
   "outputs": [
    {
     "data": {
      "text/html": [
       "<div>\n",
       "<style scoped>\n",
       "    .dataframe tbody tr th:only-of-type {\n",
       "        vertical-align: middle;\n",
       "    }\n",
       "\n",
       "    .dataframe tbody tr th {\n",
       "        vertical-align: top;\n",
       "    }\n",
       "\n",
       "    .dataframe thead th {\n",
       "        text-align: right;\n",
       "    }\n",
       "</style>\n",
       "<table border=\"1\" class=\"dataframe\">\n",
       "  <thead>\n",
       "    <tr style=\"text-align: right;\">\n",
       "      <th></th>\n",
       "      <th>fixed acidity</th>\n",
       "      <th>volatile acidity</th>\n",
       "      <th>citric acid</th>\n",
       "      <th>residual sugar</th>\n",
       "      <th>chlorides</th>\n",
       "      <th>free sulfur dioxide</th>\n",
       "      <th>total sulfur dioxide</th>\n",
       "      <th>density</th>\n",
       "      <th>pH</th>\n",
       "      <th>sulphates</th>\n",
       "      <th>alcohol</th>\n",
       "      <th>quality</th>\n",
       "    </tr>\n",
       "  </thead>\n",
       "  <tbody>\n",
       "    <tr>\n",
       "      <th>count</th>\n",
       "      <td>6497.000000</td>\n",
       "      <td>6497.000000</td>\n",
       "      <td>6497.000000</td>\n",
       "      <td>6497.000000</td>\n",
       "      <td>6497.000000</td>\n",
       "      <td>6497.000000</td>\n",
       "      <td>6497.000000</td>\n",
       "      <td>6497.000000</td>\n",
       "      <td>6497.000000</td>\n",
       "      <td>6497.000000</td>\n",
       "      <td>6497.000000</td>\n",
       "      <td>6497.000000</td>\n",
       "    </tr>\n",
       "    <tr>\n",
       "      <th>mean</th>\n",
       "      <td>7.215307</td>\n",
       "      <td>0.339666</td>\n",
       "      <td>0.318633</td>\n",
       "      <td>5.443235</td>\n",
       "      <td>0.056034</td>\n",
       "      <td>30.525319</td>\n",
       "      <td>115.744574</td>\n",
       "      <td>0.994697</td>\n",
       "      <td>3.218501</td>\n",
       "      <td>0.531268</td>\n",
       "      <td>10.491801</td>\n",
       "      <td>5.818378</td>\n",
       "    </tr>\n",
       "    <tr>\n",
       "      <th>std</th>\n",
       "      <td>1.296434</td>\n",
       "      <td>0.164636</td>\n",
       "      <td>0.145318</td>\n",
       "      <td>4.757804</td>\n",
       "      <td>0.035034</td>\n",
       "      <td>17.749400</td>\n",
       "      <td>56.521855</td>\n",
       "      <td>0.002999</td>\n",
       "      <td>0.160787</td>\n",
       "      <td>0.148806</td>\n",
       "      <td>1.192712</td>\n",
       "      <td>0.873255</td>\n",
       "    </tr>\n",
       "    <tr>\n",
       "      <th>min</th>\n",
       "      <td>3.800000</td>\n",
       "      <td>0.080000</td>\n",
       "      <td>0.000000</td>\n",
       "      <td>0.600000</td>\n",
       "      <td>0.009000</td>\n",
       "      <td>1.000000</td>\n",
       "      <td>6.000000</td>\n",
       "      <td>0.987110</td>\n",
       "      <td>2.720000</td>\n",
       "      <td>0.220000</td>\n",
       "      <td>8.000000</td>\n",
       "      <td>3.000000</td>\n",
       "    </tr>\n",
       "    <tr>\n",
       "      <th>25%</th>\n",
       "      <td>6.400000</td>\n",
       "      <td>0.230000</td>\n",
       "      <td>0.250000</td>\n",
       "      <td>1.800000</td>\n",
       "      <td>0.038000</td>\n",
       "      <td>17.000000</td>\n",
       "      <td>77.000000</td>\n",
       "      <td>0.992340</td>\n",
       "      <td>3.110000</td>\n",
       "      <td>0.430000</td>\n",
       "      <td>9.500000</td>\n",
       "      <td>5.000000</td>\n",
       "    </tr>\n",
       "    <tr>\n",
       "      <th>50%</th>\n",
       "      <td>7.000000</td>\n",
       "      <td>0.290000</td>\n",
       "      <td>0.310000</td>\n",
       "      <td>3.000000</td>\n",
       "      <td>0.047000</td>\n",
       "      <td>29.000000</td>\n",
       "      <td>118.000000</td>\n",
       "      <td>0.994890</td>\n",
       "      <td>3.210000</td>\n",
       "      <td>0.510000</td>\n",
       "      <td>10.300000</td>\n",
       "      <td>6.000000</td>\n",
       "    </tr>\n",
       "    <tr>\n",
       "      <th>75%</th>\n",
       "      <td>7.700000</td>\n",
       "      <td>0.400000</td>\n",
       "      <td>0.390000</td>\n",
       "      <td>8.100000</td>\n",
       "      <td>0.065000</td>\n",
       "      <td>41.000000</td>\n",
       "      <td>156.000000</td>\n",
       "      <td>0.996990</td>\n",
       "      <td>3.320000</td>\n",
       "      <td>0.600000</td>\n",
       "      <td>11.300000</td>\n",
       "      <td>6.000000</td>\n",
       "    </tr>\n",
       "    <tr>\n",
       "      <th>max</th>\n",
       "      <td>15.900000</td>\n",
       "      <td>1.580000</td>\n",
       "      <td>1.660000</td>\n",
       "      <td>65.800000</td>\n",
       "      <td>0.611000</td>\n",
       "      <td>289.000000</td>\n",
       "      <td>440.000000</td>\n",
       "      <td>1.038980</td>\n",
       "      <td>4.010000</td>\n",
       "      <td>2.000000</td>\n",
       "      <td>14.900000</td>\n",
       "      <td>9.000000</td>\n",
       "    </tr>\n",
       "  </tbody>\n",
       "</table>\n",
       "</div>"
      ],
      "text/plain": [
       "       fixed acidity  volatile acidity  citric acid  residual sugar  \\\n",
       "count    6497.000000       6497.000000  6497.000000     6497.000000   \n",
       "mean        7.215307          0.339666     0.318633        5.443235   \n",
       "std         1.296434          0.164636     0.145318        4.757804   \n",
       "min         3.800000          0.080000     0.000000        0.600000   \n",
       "25%         6.400000          0.230000     0.250000        1.800000   \n",
       "50%         7.000000          0.290000     0.310000        3.000000   \n",
       "75%         7.700000          0.400000     0.390000        8.100000   \n",
       "max        15.900000          1.580000     1.660000       65.800000   \n",
       "\n",
       "         chlorides  free sulfur dioxide  total sulfur dioxide      density  \\\n",
       "count  6497.000000          6497.000000           6497.000000  6497.000000   \n",
       "mean      0.056034            30.525319            115.744574     0.994697   \n",
       "std       0.035034            17.749400             56.521855     0.002999   \n",
       "min       0.009000             1.000000              6.000000     0.987110   \n",
       "25%       0.038000            17.000000             77.000000     0.992340   \n",
       "50%       0.047000            29.000000            118.000000     0.994890   \n",
       "75%       0.065000            41.000000            156.000000     0.996990   \n",
       "max       0.611000           289.000000            440.000000     1.038980   \n",
       "\n",
       "                pH    sulphates      alcohol      quality  \n",
       "count  6497.000000  6497.000000  6497.000000  6497.000000  \n",
       "mean      3.218501     0.531268    10.491801     5.818378  \n",
       "std       0.160787     0.148806     1.192712     0.873255  \n",
       "min       2.720000     0.220000     8.000000     3.000000  \n",
       "25%       3.110000     0.430000     9.500000     5.000000  \n",
       "50%       3.210000     0.510000    10.300000     6.000000  \n",
       "75%       3.320000     0.600000    11.300000     6.000000  \n",
       "max       4.010000     2.000000    14.900000     9.000000  "
      ]
     },
     "execution_count": 7,
     "metadata": {},
     "output_type": "execute_result"
    }
   ],
   "source": [
    "wine[[\"fixed acidity\",\"volatile acidity\",\"citric acid\",\"residual sugar\",\"chlorides\",\"free sulfur dioxide\",\"total sulfur dioxide\",\"density\",\"pH\",\"sulphates\",\"alcohol\",\"quality\"]].describe()"
   ]
  },
  {
   "cell_type": "code",
   "execution_count": 8,
   "metadata": {},
   "outputs": [
    {
     "data": {
      "text/plain": [
       "6    2836\n",
       "5    2138\n",
       "7    1079\n",
       "4     216\n",
       "8     193\n",
       "3      30\n",
       "9       5\n",
       "Name: quality, dtype: int64"
      ]
     },
     "execution_count": 8,
     "metadata": {},
     "output_type": "execute_result"
    }
   ],
   "source": [
    "wine[\"quality\"].value_counts()"
   ]
  },
  {
   "cell_type": "code",
   "execution_count": 9,
   "metadata": {},
   "outputs": [],
   "source": [
    "corr = wine.corr()"
   ]
  },
  {
   "cell_type": "code",
   "execution_count": 10,
   "metadata": {},
   "outputs": [
    {
     "data": {
      "text/plain": [
       "quality                 1.000000\n",
       "alcohol                 0.444319\n",
       "citric acid             0.085532\n",
       "free sulfur dioxide     0.055463\n",
       "sulphates               0.038485\n",
       "pH                      0.019506\n",
       "residual sugar         -0.036980\n",
       "total sulfur dioxide   -0.041385\n",
       "fixed acidity          -0.076743\n",
       "chlorides              -0.200666\n",
       "volatile acidity       -0.265699\n",
       "density                -0.305858\n",
       "Name: quality, dtype: float64"
      ]
     },
     "execution_count": 10,
     "metadata": {},
     "output_type": "execute_result"
    }
   ],
   "source": [
    "corr[\"quality\"].sort_values(ascending = False)"
   ]
  },
  {
   "cell_type": "code",
   "execution_count": 11,
   "metadata": {},
   "outputs": [
    {
     "data": {
      "image/png": "[encoded data removed]",
      "text/plain": [
       "<Figure size 864x720 with 2 Axes>"
      ]
     },
     "metadata": {
      "needs_background": "light"
     },
     "output_type": "display_data"
    }
   ],
   "source": [
    "fig, ax = plt.subplots(figsize=(12,10))\n",
    "sns.heatmap(corr,annot=True, linewidths=.5, ax=ax)\n",
    "plt.savefig(\"../img/corrheatmap.png\",dpi=200)"
   ]
  },
  {
   "cell_type": "code",
   "execution_count": 12,
   "metadata": {},
   "outputs": [
    {
     "data": {
      "text/plain": [
       "array([   0,    0,    0,   30,  216, 2138, 2836, 1079,  193,    5],\n",
       "      dtype=int64)"
      ]
     },
     "execution_count": 12,
     "metadata": {},
     "output_type": "execute_result"
    }
   ],
   "source": [
    "np.bincount(wine['quality'])"
   ]
  },
  {
   "cell_type": "code",
   "execution_count": 13,
   "metadata": {},
   "outputs": [],
   "source": [
    "#wine.info()#data is clean, no NaN or wrong datatypes"
   ]
  },
  {
   "cell_type": "markdown",
   "metadata": {},
   "source": [
    "# Model without modifications"
   ]
  },
  {
   "cell_type": "code",
   "execution_count": 14,
   "metadata": {},
   "outputs": [],
   "source": [
    "wine_copy = wine.copy()"
   ]
  },
  {
   "cell_type": "code",
   "execution_count": 15,
   "metadata": {},
   "outputs": [],
   "source": [
    "# Creating a test/train split\n",
    "index_sep = 0.80\n",
    "split_index = int(wine_copy.shape[0] * index_sep)\n",
    "train = wine_copy[:split_index]\n",
    "test = wine_copy[split_index:]\n",
    "# Features selection\n",
    "X_train = train.drop(['quality'], axis = 1).values\n",
    "X_test = test.drop(['quality'], axis = 1).values\n",
    "#Target = Quality\n",
    "target = pd.get_dummies(wine_copy['quality']).values # One hot encode\n",
    "y_train = target[:split_index]\n",
    "y_test = target[split_index:]"
   ]
  },
  {
   "cell_type": "markdown",
   "metadata": {},
   "source": [
    "### Model : "
   ]
  },
  {
   "cell_type": "code",
   "execution_count": 16,
   "metadata": {},
   "outputs": [],
   "source": [
    "output_shape = len(wine[\"quality\"].unique()) # number of output node"
   ]
  },
  {
   "cell_type": "code",
   "execution_count": 17,
   "metadata": {},
   "outputs": [
    {
     "data": {
      "text/plain": [
       "7"
      ]
     },
     "execution_count": 17,
     "metadata": {},
     "output_type": "execute_result"
    }
   ],
   "source": [
    "output_shape "
   ]
  },
  {
   "cell_type": "code",
   "execution_count": 18,
   "metadata": {},
   "outputs": [],
   "source": [
    "\n",
    "input_shape = (X_train.shape[1],)\n",
    "METRICS = [\n",
    "      keras.metrics.TruePositives(name='tp'),\n",
    "      keras.metrics.FalsePositives(name='fp'),\n",
    "      keras.metrics.TrueNegatives(name='tn'),\n",
    "      keras.metrics.FalseNegatives(name='fn'), \n",
    "      keras.metrics.BinaryAccuracy(name='accuracy'),\n",
    "      keras.metrics.Precision(name='precision'),\n",
    "      keras.metrics.Recall(name='recall'),\n",
    "      keras.metrics.AUC(name='auc'),\n",
    "]\n",
    "\n",
    "def make_model(metrics=METRICS, output_bias=None,output_shape=output_shape,input_shape=input_shape):\n",
    "  if output_bias is not None:\n",
    "    output_bias = tf.keras.initializers.Constant(output_bias)\n",
    "  model = keras.Sequential([\n",
    "      keras.layers.Dense(60,activation=\"sigmoid\",input_shape=input_shape),\n",
    "      keras.layers.Dense(30, activation='relu'),\n",
    "      keras.layers.Dropout(0.3),\n",
    "      keras.layers.Dense(output_shape, activation='softmax')\n",
    "  ])\n",
    "\n",
    "  model.compile(\n",
    "      optimizer=keras.optimizers.Adam(lr=1e-3),\n",
    "      loss=keras.losses.CategoricalCrossentropy(),\n",
    "      metrics=metrics)\n",
    "\n",
    "  return model"
   ]
  },
  {
   "cell_type": "markdown",
   "metadata": {},
   "source": [
    "## Baseline Model"
   ]
  },
  {
   "cell_type": "code",
   "execution_count": 19,
   "metadata": {},
   "outputs": [],
   "source": [
    "EPOCHS = 30\n",
    "BATCH_SIZE = 2500\n",
    "early_stopping = tf.keras.callbacks.EarlyStopping(\n",
    "    monitor='val_auc', \n",
    "    verbose=1,\n",
    "    patience=10,\n",
    "    mode='max',\n",
    "    restore_best_weights=True)"
   ]
  },
  {
   "cell_type": "code",
   "execution_count": 20,
   "metadata": {},
   "outputs": [
    {
     "name": "stdout",
     "output_type": "stream",
     "text": [
      "Model: \"sequential\"\n",
      "_________________________________________________________________\n",
      "Layer (type)                 Output Shape              Param #   \n",
      "=================================================================\n",
      "dense (Dense)                (None, 60)                720       \n",
      "_________________________________________________________________\n",
      "dense_1 (Dense)              (None, 30)                1830      \n",
      "_________________________________________________________________\n",
      "dropout (Dropout)            (None, 30)                0         \n",
      "_________________________________________________________________\n",
      "dense_2 (Dense)              (None, 7)                 217       \n",
      "=================================================================\n",
      "Total params: 2,767\n",
      "Trainable params: 2,767\n",
      "Non-trainable params: 0\n",
      "_________________________________________________________________\n"
     ]
    }
   ],
   "source": [
    "model = make_model()\n",
    "model.summary()"
   ]
  },
  {
   "cell_type": "code",
   "execution_count": 21,
   "metadata": {},
   "outputs": [
    {
     "name": "stdout",
     "output_type": "stream",
     "text": [
      "Epoch 1/30\n",
      "2/2 [==============================] - 5s 2s/step - loss: 2.1808 - tp: 227.0000 - fp: 412.3333 - tn: 21215.6667 - fn: 3377.6667 - accuracy: 0.8498 - precision: 0.3557 - recall: 0.0631 - auc: 0.5447 - val_loss: 2.1676 - val_tp: 0.0000e+00 - val_fp: 0.0000e+00 - val_tn: 6240.0000 - val_fn: 1040.0000 - val_accuracy: 0.8571 - val_precision: 0.0000e+00 - val_recall: 0.0000e+00 - val_auc: 0.4909\n",
      "Epoch 2/30\n",
      "2/2 [==============================] - 0s 175ms/step - loss: 2.0337 - tp: 242.0000 - fp: 386.3333 - tn: 21241.6667 - fn: 3362.6667 - accuracy: 0.8514 - precision: 0.3850 - recall: 0.0673 - auc: 0.5861 - val_loss: 2.0012 - val_tp: 0.0000e+00 - val_fp: 0.0000e+00 - val_tn: 6240.0000 - val_fn: 1040.0000 - val_accuracy: 0.8571 - val_precision: 0.0000e+00 - val_recall: 0.0000e+00 - val_auc: 0.5758\n",
      "Epoch 3/30\n",
      "2/2 [==============================] - 0s 172ms/step - loss: 1.9106 - tp: 233.6667 - fp: 352.0000 - tn: 21276.0000 - fn: 3371.0000 - accuracy: 0.8526 - precision: 0.4025 - recall: 0.0656 - auc: 0.6339 - val_loss: 1.8593 - val_tp: 0.0000e+00 - val_fp: 0.0000e+00 - val_tn: 6240.0000 - val_fn: 1040.0000 - val_accuracy: 0.8571 - val_precision: 0.0000e+00 - val_recall: 0.0000e+00 - val_auc: 0.6567\n",
      "Epoch 4/30\n",
      "2/2 [==============================] - 0s 160ms/step - loss: 1.7918 - tp: 201.3333 - fp: 294.3333 - tn: 21333.6667 - fn: 3403.3333 - accuracy: 0.8535 - precision: 0.4076 - recall: 0.0560 - auc: 0.6861 - val_loss: 1.7438 - val_tp: 0.0000e+00 - val_fp: 0.0000e+00 - val_tn: 6240.0000 - val_fn: 1040.0000 - val_accuracy: 0.8571 - val_precision: 0.0000e+00 - val_recall: 0.0000e+00 - val_auc: 0.6793\n",
      "Epoch 5/30\n",
      "2/2 [==============================] - 0s 185ms/step - loss: 1.7113 - tp: 217.3333 - fp: 328.3333 - tn: 21299.6667 - fn: 3387.3333 - accuracy: 0.8527 - precision: 0.3975 - recall: 0.0601 - auc: 0.7261 - val_loss: 1.6504 - val_tp: 0.0000e+00 - val_fp: 0.0000e+00 - val_tn: 6240.0000 - val_fn: 1040.0000 - val_accuracy: 0.8571 - val_precision: 0.0000e+00 - val_recall: 0.0000e+00 - val_auc: 0.7742\n",
      "Epoch 6/30\n",
      "2/2 [==============================] - 0s 230ms/step - loss: 1.6449 - tp: 193.0000 - fp: 322.3333 - tn: 21305.6667 - fn: 3411.6667 - accuracy: 0.8520 - precision: 0.3750 - recall: 0.0537 - auc: 0.7554 - val_loss: 1.5743 - val_tp: 0.0000e+00 - val_fp: 0.0000e+00 - val_tn: 6240.0000 - val_fn: 1040.0000 - val_accuracy: 0.8571 - val_precision: 0.0000e+00 - val_recall: 0.0000e+00 - val_auc: 0.7987\n",
      "Epoch 7/30\n",
      "2/2 [==============================] - 0s 190ms/step - loss: 1.5846 - tp: 186.0000 - fp: 295.3333 - tn: 21332.6667 - fn: 3418.6667 - accuracy: 0.8528 - precision: 0.3859 - recall: 0.0513 - auc: 0.7780 - val_loss: 1.5153 - val_tp: 0.0000e+00 - val_fp: 0.0000e+00 - val_tn: 6240.0000 - val_fn: 1040.0000 - val_accuracy: 0.8571 - val_precision: 0.0000e+00 - val_recall: 0.0000e+00 - val_auc: 0.8018\n",
      "Epoch 8/30\n",
      "2/2 [==============================] - 0s 191ms/step - loss: 1.5348 - tp: 239.3333 - fp: 352.6667 - tn: 21275.3333 - fn: 3365.3333 - accuracy: 0.8526 - precision: 0.4037 - recall: 0.0661 - auc: 0.7948 - val_loss: 1.4732 - val_tp: 0.0000e+00 - val_fp: 0.0000e+00 - val_tn: 6240.0000 - val_fn: 1040.0000 - val_accuracy: 0.8571 - val_precision: 0.0000e+00 - val_recall: 0.0000e+00 - val_auc: 0.8123\n",
      "Epoch 9/30\n",
      "2/2 [==============================] - 0s 220ms/step - loss: 1.5084 - tp: 275.6667 - fp: 427.3333 - tn: 21200.6667 - fn: 3329.0000 - accuracy: 0.8512 - precision: 0.3934 - recall: 0.0764 - auc: 0.8025 - val_loss: 1.4467 - val_tp: 0.0000e+00 - val_fp: 0.0000e+00 - val_tn: 6240.0000 - val_fn: 1040.0000 - val_accuracy: 0.8571 - val_precision: 0.0000e+00 - val_recall: 0.0000e+00 - val_auc: 0.8239\n",
      "Epoch 10/30\n",
      "2/2 [==============================] - 0s 187ms/step - loss: 1.5005 - tp: 359.6667 - fp: 611.6667 - tn: 21016.3333 - fn: 3245.0000 - accuracy: 0.8472 - precision: 0.3710 - recall: 0.0999 - auc: 0.8048 - val_loss: 1.4323 - val_tp: 0.0000e+00 - val_fp: 0.0000e+00 - val_tn: 6240.0000 - val_fn: 1040.0000 - val_accuracy: 0.8571 - val_precision: 0.0000e+00 - val_recall: 0.0000e+00 - val_auc: 0.8281\n",
      "Epoch 11/30\n",
      "2/2 [==============================] - 0s 234ms/step - loss: 1.4946 - tp: 475.3333 - fp: 734.0000 - tn: 20894.0000 - fn: 3129.3333 - accuracy: 0.8470 - precision: 0.3938 - recall: 0.1316 - auc: 0.8079 - val_loss: 1.4255 - val_tp: 0.0000e+00 - val_fp: 0.0000e+00 - val_tn: 6240.0000 - val_fn: 1040.0000 - val_accuracy: 0.8571 - val_precision: 0.0000e+00 - val_recall: 0.0000e+00 - val_auc: 0.8291\n",
      "Epoch 12/30\n",
      "2/2 [==============================] - 0s 171ms/step - loss: 1.4715 - tp: 552.0000 - fp: 824.6667 - tn: 20803.3333 - fn: 3052.6667 - accuracy: 0.8465 - precision: 0.4021 - recall: 0.1529 - auc: 0.8145 - val_loss: 1.4226 - val_tp: 0.0000e+00 - val_fp: 0.0000e+00 - val_tn: 6240.0000 - val_fn: 1040.0000 - val_accuracy: 0.8571 - val_precision: 0.0000e+00 - val_recall: 0.0000e+00 - val_auc: 0.8293\n",
      "Epoch 13/30\n",
      "2/2 [==============================] - 0s 180ms/step - loss: 1.4570 - tp: 604.0000 - fp: 968.6667 - tn: 20659.3333 - fn: 3000.6667 - accuracy: 0.8428 - precision: 0.3851 - recall: 0.1683 - auc: 0.8192 - val_loss: 1.4234 - val_tp: 0.0000e+00 - val_fp: 0.0000e+00 - val_tn: 6240.0000 - val_fn: 1040.0000 - val_accuracy: 0.8571 - val_precision: 0.0000e+00 - val_recall: 0.0000e+00 - val_auc: 0.8287\n",
      "Epoch 14/30\n",
      "2/2 [==============================] - 0s 190ms/step - loss: 1.4329 - tp: 699.0000 - fp: 946.0000 - tn: 20682.0000 - fn: 2905.6667 - accuracy: 0.8474 - precision: 0.4253 - recall: 0.1947 - auc: 0.8257 - val_loss: 1.4260 - val_tp: 0.0000e+00 - val_fp: 0.0000e+00 - val_tn: 6240.0000 - val_fn: 1040.0000 - val_accuracy: 0.8571 - val_precision: 0.0000e+00 - val_recall: 0.0000e+00 - val_auc: 0.8274\n",
      "Epoch 15/30\n",
      "2/2 [==============================] - 0s 174ms/step - loss: 1.4401 - tp: 651.3333 - fp: 1025.0000 - tn: 20603.0000 - fn: 2953.3333 - accuracy: 0.8423 - precision: 0.3884 - recall: 0.1806 - auc: 0.8238 - val_loss: 1.4279 - val_tp: 0.0000e+00 - val_fp: 0.0000e+00 - val_tn: 6240.0000 - val_fn: 1040.0000 - val_accuracy: 0.8571 - val_precision: 0.0000e+00 - val_recall: 0.0000e+00 - val_auc: 0.8247\n",
      "Epoch 16/30\n",
      "2/2 [==============================] - 0s 188ms/step - loss: 1.4234 - tp: 686.0000 - fp: 996.6667 - tn: 20631.3333 - fn: 2918.6667 - accuracy: 0.8449 - precision: 0.4079 - recall: 0.1901 - auc: 0.8274 - val_loss: 1.4252 - val_tp: 0.0000e+00 - val_fp: 0.0000e+00 - val_tn: 6240.0000 - val_fn: 1040.0000 - val_accuracy: 0.8571 - val_precision: 0.0000e+00 - val_recall: 0.0000e+00 - val_auc: 0.8220\n",
      "Epoch 17/30\n",
      "2/2 [==============================] - 0s 157ms/step - loss: 1.4039 - tp: 669.0000 - fp: 975.6667 - tn: 20652.3333 - fn: 2935.6667 - accuracy: 0.8451 - precision: 0.4080 - recall: 0.1868 - auc: 0.8312 - val_loss: 1.4207 - val_tp: 0.0000e+00 - val_fp: 0.0000e+00 - val_tn: 6240.0000 - val_fn: 1040.0000 - val_accuracy: 0.8571 - val_precision: 0.0000e+00 - val_recall: 0.0000e+00 - val_auc: 0.8194\n",
      "Epoch 18/30\n",
      "2/2 [==============================] - 0s 171ms/step - loss: 1.3818 - tp: 671.0000 - fp: 928.6667 - tn: 20699.3333 - fn: 2933.6667 - accuracy: 0.8470 - precision: 0.4203 - recall: 0.1869 - auc: 0.8361 - val_loss: 1.4145 - val_tp: 0.0000e+00 - val_fp: 0.0000e+00 - val_tn: 6240.0000 - val_fn: 1040.0000 - val_accuracy: 0.8571 - val_precision: 0.0000e+00 - val_recall: 0.0000e+00 - val_auc: 0.8201\n",
      "Epoch 19/30\n",
      "2/2 [==============================] - 0s 195ms/step - loss: 1.3963 - tp: 621.3333 - fp: 927.0000 - tn: 20701.0000 - fn: 2983.3333 - accuracy: 0.8451 - precision: 0.4024 - recall: 0.1732 - auc: 0.8316 - val_loss: 1.4062 - val_tp: 0.0000e+00 - val_fp: 0.0000e+00 - val_tn: 6240.0000 - val_fn: 1040.0000 - val_accuracy: 0.8571 - val_precision: 0.0000e+00 - val_recall: 0.0000e+00 - val_auc: 0.8228\n",
      "Epoch 20/30\n",
      "2/2 [==============================] - 0s 196ms/step - loss: 1.3894 - tp: 605.6667 - fp: 879.3333 - tn: 20748.6667 - fn: 2999.0000 - accuracy: 0.8463 - precision: 0.4077 - recall: 0.1679 - auc: 0.8327 - val_loss: 1.3976 - val_tp: 0.0000e+00 - val_fp: 0.0000e+00 - val_tn: 6240.0000 - val_fn: 1040.0000 - val_accuracy: 0.8571 - val_precision: 0.0000e+00 - val_recall: 0.0000e+00 - val_auc: 0.8285\n",
      "Epoch 21/30\n"
     ]
    },
    {
     "name": "stdout",
     "output_type": "stream",
     "text": [
      "2/2 [==============================] - 0s 193ms/step - loss: 1.3838 - tp: 559.6667 - fp: 854.3333 - tn: 20773.6667 - fn: 3045.0000 - accuracy: 0.8456 - precision: 0.3968 - recall: 0.1557 - auc: 0.8328 - val_loss: 1.3885 - val_tp: 0.0000e+00 - val_fp: 0.0000e+00 - val_tn: 6240.0000 - val_fn: 1040.0000 - val_accuracy: 0.8571 - val_precision: 0.0000e+00 - val_recall: 0.0000e+00 - val_auc: 0.8326\n",
      "Epoch 22/30\n",
      "2/2 [==============================] - 0s 188ms/step - loss: 1.3714 - tp: 532.3333 - fp: 794.3333 - tn: 20833.6667 - fn: 3072.3333 - accuracy: 0.8468 - precision: 0.4020 - recall: 0.1485 - auc: 0.8351 - val_loss: 1.3806 - val_tp: 0.0000e+00 - val_fp: 0.0000e+00 - val_tn: 6240.0000 - val_fn: 1040.0000 - val_accuracy: 0.8571 - val_precision: 0.0000e+00 - val_recall: 0.0000e+00 - val_auc: 0.8363\n",
      "Epoch 23/30\n",
      "2/2 [==============================] - 0s 244ms/step - loss: 1.3855 - tp: 485.6667 - fp: 790.3333 - tn: 20837.6667 - fn: 3119.0000 - accuracy: 0.8450 - precision: 0.3802 - recall: 0.1344 - auc: 0.8309 - val_loss: 1.3755 - val_tp: 0.0000e+00 - val_fp: 0.0000e+00 - val_tn: 6240.0000 - val_fn: 1040.0000 - val_accuracy: 0.8571 - val_precision: 0.0000e+00 - val_recall: 0.0000e+00 - val_auc: 0.8368\n",
      "Epoch 24/30\n",
      "2/2 [==============================] - 0s 167ms/step - loss: 1.3720 - tp: 486.3333 - fp: 734.6667 - tn: 20893.3333 - fn: 3118.3333 - accuracy: 0.8473 - precision: 0.3986 - recall: 0.1352 - auc: 0.8341 - val_loss: 1.3734 - val_tp: 0.0000e+00 - val_fp: 0.0000e+00 - val_tn: 6240.0000 - val_fn: 1040.0000 - val_accuracy: 0.8571 - val_precision: 0.0000e+00 - val_recall: 0.0000e+00 - val_auc: 0.8387\n",
      "Epoch 25/30\n",
      "2/2 [==============================] - 0s 180ms/step - loss: 1.3787 - tp: 448.0000 - fp: 690.3333 - tn: 20937.6667 - fn: 3156.6667 - accuracy: 0.8475 - precision: 0.3936 - recall: 0.1245 - auc: 0.8320 - val_loss: 1.3734 - val_tp: 0.0000e+00 - val_fp: 0.0000e+00 - val_tn: 6240.0000 - val_fn: 1040.0000 - val_accuracy: 0.8571 - val_precision: 0.0000e+00 - val_recall: 0.0000e+00 - val_auc: 0.8407\n",
      "Epoch 26/30\n",
      "2/2 [==============================] - 0s 137ms/step - loss: 1.3562 - tp: 477.6667 - fp: 692.3333 - tn: 20935.6667 - fn: 3127.0000 - accuracy: 0.8487 - precision: 0.4087 - recall: 0.1327 - auc: 0.8378 - val_loss: 1.3740 - val_tp: 0.0000e+00 - val_fp: 0.0000e+00 - val_tn: 6240.0000 - val_fn: 1040.0000 - val_accuracy: 0.8571 - val_precision: 0.0000e+00 - val_recall: 0.0000e+00 - val_auc: 0.8419\n",
      "Epoch 27/30\n",
      "2/2 [==============================] - 0s 132ms/step - loss: 1.3465 - tp: 448.3333 - fp: 654.0000 - tn: 20974.0000 - fn: 3156.3333 - accuracy: 0.8489 - precision: 0.4061 - recall: 0.1242 - auc: 0.8398 - val_loss: 1.3758 - val_tp: 0.0000e+00 - val_fp: 0.0000e+00 - val_tn: 6240.0000 - val_fn: 1040.0000 - val_accuracy: 0.8571 - val_precision: 0.0000e+00 - val_recall: 0.0000e+00 - val_auc: 0.8423\n",
      "Epoch 28/30\n",
      "2/2 [==============================] - 0s 115ms/step - loss: 1.3475 - tp: 471.0000 - fp: 640.3333 - tn: 20987.6667 - fn: 3133.6667 - accuracy: 0.8505 - precision: 0.4239 - recall: 0.1304 - auc: 0.8400 - val_loss: 1.3742 - val_tp: 0.0000e+00 - val_fp: 0.0000e+00 - val_tn: 6240.0000 - val_fn: 1040.0000 - val_accuracy: 0.8571 - val_precision: 0.0000e+00 - val_recall: 0.0000e+00 - val_auc: 0.8429\n",
      "Epoch 29/30\n",
      "2/2 [==============================] - 0s 104ms/step - loss: 1.3548 - tp: 411.0000 - fp: 683.0000 - tn: 20945.0000 - fn: 3193.6667 - accuracy: 0.8462 - precision: 0.3741 - recall: 0.1137 - auc: 0.8364 - val_loss: 1.3693 - val_tp: 0.0000e+00 - val_fp: 0.0000e+00 - val_tn: 6240.0000 - val_fn: 1040.0000 - val_accuracy: 0.8571 - val_precision: 0.0000e+00 - val_recall: 0.0000e+00 - val_auc: 0.8438\n",
      "Epoch 30/30\n",
      "2/2 [==============================] - 0s 160ms/step - loss: 1.3312 - tp: 442.0000 - fp: 663.6667 - tn: 20964.3333 - fn: 3162.6667 - accuracy: 0.8483 - precision: 0.3991 - recall: 0.1226 - auc: 0.8426 - val_loss: 1.3635 - val_tp: 0.0000e+00 - val_fp: 0.0000e+00 - val_tn: 6240.0000 - val_fn: 1040.0000 - val_accuracy: 0.8571 - val_precision: 0.0000e+00 - val_recall: 0.0000e+00 - val_auc: 0.8439\n"
     ]
    }
   ],
   "source": [
    "baseline_history = model.fit(\n",
    "    X_train,\n",
    "    y_train,\n",
    "    batch_size=BATCH_SIZE,\n",
    "    epochs=EPOCHS,\n",
    "    callbacks=[early_stopping],\n",
    "    validation_split=0.2)"
   ]
  },
  {
   "cell_type": "code",
   "execution_count": 22,
   "metadata": {},
   "outputs": [],
   "source": [
    "def plot_metrics(history):\n",
    "  metrics = ['loss', 'auc', 'precision', 'recall']\n",
    "  for n, metric in enumerate(metrics):\n",
    "    name = metric.replace(\"_\",\" \").capitalize()\n",
    "    plt.subplot(2,2,n+1)\n",
    "    plt.plot(history.epoch, history.history[metric], color=\"red\", label='Train')\n",
    "    plt.plot(history.epoch, history.history['val_'+metric],\n",
    "             color=\"blue\", linestyle=\"--\", label='Val')\n",
    "    plt.xlabel('Epoch')\n",
    "    plt.ylabel(name)\n",
    "    if metric == 'loss':\n",
    "      plt.ylim([0, plt.ylim()[1]])\n",
    "    elif metric == 'auc':\n",
    "      plt.ylim([0.8,1])\n",
    "    else:\n",
    "      plt.ylim([0,1])\n",
    "    \n",
    "    plt.legend()"
   ]
  },
  {
   "cell_type": "code",
   "execution_count": 23,
   "metadata": {},
   "outputs": [
    {
     "data": {
      "image/png": "[encoded data removed]",
      "text/plain": [
       "<Figure size 864x720 with 4 Axes>"
      ]
     },
     "metadata": {
      "needs_background": "light"
     },
     "output_type": "display_data"
    }
   ],
   "source": [
    "plot_metrics(baseline_history)"
   ]
  },
  {
   "cell_type": "markdown",
   "metadata": {},
   "source": [
    "High acc but still high loss we need to resample our classes our deal with their weight"
   ]
  },
  {
   "cell_type": "code",
   "execution_count": 24,
   "metadata": {},
   "outputs": [
    {
     "name": "stdout",
     "output_type": "stream",
     "text": [
      "41/41 [==============================] - 0s 3ms/step - loss: 1.2179 - tp: 0.0000e+00 - fp: 0.0000e+00 - tn: 7800.0000 - fn: 1300.0000 - accuracy: 0.8571 - precision: 0.0000e+00 - recall: 0.0000e+00 - auc: 0.8815\n"
     ]
    },
    {
     "data": {
      "text/plain": [
       "[1.2179025411605835,\n",
       " 0.0,\n",
       " 0.0,\n",
       " 7800.0,\n",
       " 1300.0,\n",
       " 0.857142984867096,\n",
       " 0.0,\n",
       " 0.0,\n",
       " 0.8814684152603149]"
      ]
     },
     "execution_count": 24,
     "metadata": {},
     "output_type": "execute_result"
    }
   ],
   "source": [
    "model.evaluate(X_test,y_test)"
   ]
  },
  {
   "cell_type": "code",
   "execution_count": 25,
   "metadata": {},
   "outputs": [
    {
     "data": {
      "text/plain": [
       "array([[0.0206465 , 0.03852674, 0.34540388, 0.41552654, 0.14637005,\n",
       "        0.02639594, 0.00713039],\n",
       "       [0.01208551, 0.03997575, 0.41436762, 0.38293493, 0.12573898,\n",
       "        0.01899052, 0.00590672],\n",
       "       [0.02180868, 0.04253729, 0.3552949 , 0.39938566, 0.14450382,\n",
       "        0.0280765 , 0.00839313]], dtype=float32)"
      ]
     },
     "execution_count": 25,
     "metadata": {},
     "output_type": "execute_result"
    }
   ],
   "source": [
    "model.predict(X_test[:3])"
   ]
  },
  {
   "cell_type": "code",
   "execution_count": 26,
   "metadata": {},
   "outputs": [
    {
     "data": {
      "text/plain": [
       "array([[0, 0, 0, 0, 1, 0, 0],\n",
       "       [0, 0, 0, 1, 0, 0, 0],\n",
       "       [0, 0, 0, 1, 0, 0, 0]], dtype=uint8)"
      ]
     },
     "execution_count": 26,
     "metadata": {},
     "output_type": "execute_result"
    }
   ],
   "source": [
    "y_test[:3]"
   ]
  },
  {
   "cell_type": "markdown",
   "metadata": {},
   "source": [
    "----------------------------------------------------------------"
   ]
  },
  {
   "cell_type": "markdown",
   "metadata": {},
   "source": [
    "# Wine_modif"
   ]
  },
  {
   "cell_type": "code",
   "execution_count": 27,
   "metadata": {},
   "outputs": [],
   "source": [
    "wine_modif = wine.copy()"
   ]
  },
  {
   "cell_type": "markdown",
   "metadata": {},
   "source": [
    "### Total Sulfur Dioxide - [Why it Matters, Too!](https://www.extension.iastate.edu/wine/total-sulfur-dioxide-why-it-matters-too#:~:text=Simply%20put%2C%20Total%20Sulfur%20Dioxide,aldehydes%2C%20pigments%2C%20or%20sugars.)"
   ]
  },
  {
   "cell_type": "code",
   "execution_count": 28,
   "metadata": {},
   "outputs": [],
   "source": [
    "#ratio TSO2 /FSO2\n",
    "wine_modif[\"ratioSO2\"] = wine_modif[\"free sulfur dioxide\"] / wine_modif[\"total sulfur dioxide\"]"
   ]
  },
  {
   "cell_type": "code",
   "execution_count": 29,
   "metadata": {},
   "outputs": [
    {
     "data": {
      "text/html": [
       "<div>\n",
       "<style scoped>\n",
       "    .dataframe tbody tr th:only-of-type {\n",
       "        vertical-align: middle;\n",
       "    }\n",
       "\n",
       "    .dataframe tbody tr th {\n",
       "        vertical-align: top;\n",
       "    }\n",
       "\n",
       "    .dataframe thead th {\n",
       "        text-align: right;\n",
       "    }\n",
       "</style>\n",
       "<table border=\"1\" class=\"dataframe\">\n",
       "  <thead>\n",
       "    <tr style=\"text-align: right;\">\n",
       "      <th></th>\n",
       "      <th>fixed acidity</th>\n",
       "      <th>volatile acidity</th>\n",
       "      <th>citric acid</th>\n",
       "      <th>residual sugar</th>\n",
       "      <th>chlorides</th>\n",
       "      <th>free sulfur dioxide</th>\n",
       "      <th>total sulfur dioxide</th>\n",
       "      <th>density</th>\n",
       "      <th>pH</th>\n",
       "      <th>sulphates</th>\n",
       "      <th>alcohol</th>\n",
       "      <th>quality</th>\n",
       "      <th>ratioSO2</th>\n",
       "    </tr>\n",
       "  </thead>\n",
       "  <tbody>\n",
       "    <tr>\n",
       "      <th>0</th>\n",
       "      <td>7.4</td>\n",
       "      <td>0.70</td>\n",
       "      <td>0.00</td>\n",
       "      <td>1.9</td>\n",
       "      <td>0.076</td>\n",
       "      <td>11.0</td>\n",
       "      <td>34.0</td>\n",
       "      <td>0.9978</td>\n",
       "      <td>3.51</td>\n",
       "      <td>0.56</td>\n",
       "      <td>9.4</td>\n",
       "      <td>5</td>\n",
       "      <td>0.323529</td>\n",
       "    </tr>\n",
       "    <tr>\n",
       "      <th>1</th>\n",
       "      <td>7.8</td>\n",
       "      <td>0.88</td>\n",
       "      <td>0.00</td>\n",
       "      <td>2.6</td>\n",
       "      <td>0.098</td>\n",
       "      <td>25.0</td>\n",
       "      <td>67.0</td>\n",
       "      <td>0.9968</td>\n",
       "      <td>3.20</td>\n",
       "      <td>0.68</td>\n",
       "      <td>9.8</td>\n",
       "      <td>5</td>\n",
       "      <td>0.373134</td>\n",
       "    </tr>\n",
       "    <tr>\n",
       "      <th>2</th>\n",
       "      <td>7.8</td>\n",
       "      <td>0.76</td>\n",
       "      <td>0.04</td>\n",
       "      <td>2.3</td>\n",
       "      <td>0.092</td>\n",
       "      <td>15.0</td>\n",
       "      <td>54.0</td>\n",
       "      <td>0.9970</td>\n",
       "      <td>3.26</td>\n",
       "      <td>0.65</td>\n",
       "      <td>9.8</td>\n",
       "      <td>5</td>\n",
       "      <td>0.277778</td>\n",
       "    </tr>\n",
       "  </tbody>\n",
       "</table>\n",
       "</div>"
      ],
      "text/plain": [
       "   fixed acidity  volatile acidity  citric acid  residual sugar  chlorides  \\\n",
       "0            7.4              0.70         0.00             1.9      0.076   \n",
       "1            7.8              0.88         0.00             2.6      0.098   \n",
       "2            7.8              0.76         0.04             2.3      0.092   \n",
       "\n",
       "   free sulfur dioxide  total sulfur dioxide  density    pH  sulphates  \\\n",
       "0                 11.0                  34.0   0.9978  3.51       0.56   \n",
       "1                 25.0                  67.0   0.9968  3.20       0.68   \n",
       "2                 15.0                  54.0   0.9970  3.26       0.65   \n",
       "\n",
       "   alcohol  quality  ratioSO2  \n",
       "0      9.4        5  0.323529  \n",
       "1      9.8        5  0.373134  \n",
       "2      9.8        5  0.277778  "
      ]
     },
     "execution_count": 29,
     "metadata": {},
     "output_type": "execute_result"
    }
   ],
   "source": [
    "wine_modif.head(3)"
   ]
  },
  {
   "cell_type": "markdown",
   "metadata": {},
   "source": [
    "### Train test split on wine_modif"
   ]
  },
  {
   "cell_type": "code",
   "execution_count": 30,
   "metadata": {},
   "outputs": [],
   "source": [
    "# Creating a test/train split\n",
    "index_sep = 0.80\n",
    "split_index = int(wine_modif.shape[0] * index_sep)\n",
    "train_features = wine_modif[:split_index]\n",
    "test_features = wine_modif[split_index:]\n",
    "# Features selection\n",
    "X_train = train_features.drop(['quality'], axis = 1).values\n",
    "X_test = test_features.drop(['quality'], axis = 1).values\n",
    "#Target = Quality\n",
    "target = pd.get_dummies(wine_modif['quality']).values # One hot encode\n",
    "train_target = target[:split_index]\n",
    "test_target = target[split_index:]"
   ]
  },
  {
   "cell_type": "markdown",
   "metadata": {},
   "source": [
    "### Normalize the data"
   ]
  },
  {
   "cell_type": "code",
   "execution_count": 31,
   "metadata": {},
   "outputs": [],
   "source": [
    "mean = np.mean(train_features, axis=0)\n",
    "train_features -= mean\n",
    "test_features -= mean\n",
    "std = np.std(train_features, axis=0)\n",
    "train_features /= std\n",
    "test_features /= std"
   ]
  },
  {
   "cell_type": "code",
   "execution_count": 32,
   "metadata": {},
   "outputs": [
    {
     "data": {
      "text/html": [
       "<div>\n",
       "<style scoped>\n",
       "    .dataframe tbody tr th:only-of-type {\n",
       "        vertical-align: middle;\n",
       "    }\n",
       "\n",
       "    .dataframe tbody tr th {\n",
       "        vertical-align: top;\n",
       "    }\n",
       "\n",
       "    .dataframe thead th {\n",
       "        text-align: right;\n",
       "    }\n",
       "</style>\n",
       "<table border=\"1\" class=\"dataframe\">\n",
       "  <thead>\n",
       "    <tr style=\"text-align: right;\">\n",
       "      <th></th>\n",
       "      <th>fixed acidity</th>\n",
       "      <th>volatile acidity</th>\n",
       "      <th>citric acid</th>\n",
       "      <th>residual sugar</th>\n",
       "      <th>chlorides</th>\n",
       "      <th>free sulfur dioxide</th>\n",
       "      <th>total sulfur dioxide</th>\n",
       "      <th>density</th>\n",
       "      <th>pH</th>\n",
       "      <th>sulphates</th>\n",
       "      <th>alcohol</th>\n",
       "      <th>quality</th>\n",
       "      <th>ratioSO2</th>\n",
       "    </tr>\n",
       "  </thead>\n",
       "  <tbody>\n",
       "    <tr>\n",
       "      <th>0</th>\n",
       "      <td>0.000136</td>\n",
       "      <td>1.987462</td>\n",
       "      <td>-2.103896</td>\n",
       "      <td>-0.700044</td>\n",
       "      <td>0.469353</td>\n",
       "      <td>-1.045667</td>\n",
       "      <td>-1.308185</td>\n",
       "      <td>0.948097</td>\n",
       "      <td>1.706789</td>\n",
       "      <td>0.123036</td>\n",
       "      <td>-0.886439</td>\n",
       "      <td>-0.903025</td>\n",
       "      <td>0.250410</td>\n",
       "    </tr>\n",
       "    <tr>\n",
       "      <th>1</th>\n",
       "      <td>0.297489</td>\n",
       "      <td>3.018836</td>\n",
       "      <td>-2.103896</td>\n",
       "      <td>-0.549633</td>\n",
       "      <td>1.060226</td>\n",
       "      <td>-0.251390</td>\n",
       "      <td>-0.756489</td>\n",
       "      <td>0.605819</td>\n",
       "      <td>-0.196591</td>\n",
       "      <td>0.898637</td>\n",
       "      <td>-0.540416</td>\n",
       "      <td>-0.903025</td>\n",
       "      <td>0.633522</td>\n",
       "    </tr>\n",
       "    <tr>\n",
       "      <th>2</th>\n",
       "      <td>0.297489</td>\n",
       "      <td>2.331253</td>\n",
       "      <td>-1.842649</td>\n",
       "      <td>-0.614095</td>\n",
       "      <td>0.899079</td>\n",
       "      <td>-0.818730</td>\n",
       "      <td>-0.973824</td>\n",
       "      <td>0.674275</td>\n",
       "      <td>0.171805</td>\n",
       "      <td>0.704737</td>\n",
       "      <td>-0.540416</td>\n",
       "      <td>-0.903025</td>\n",
       "      <td>-0.102942</td>\n",
       "    </tr>\n",
       "    <tr>\n",
       "      <th>3</th>\n",
       "      <td>2.824987</td>\n",
       "      <td>-0.419078</td>\n",
       "      <td>1.553554</td>\n",
       "      <td>-0.700044</td>\n",
       "      <td>0.442496</td>\n",
       "      <td>-0.705262</td>\n",
       "      <td>-0.873515</td>\n",
       "      <td>1.016553</td>\n",
       "      <td>-0.442189</td>\n",
       "      <td>0.252303</td>\n",
       "      <td>-0.540416</td>\n",
       "      <td>0.221052</td>\n",
       "      <td>-0.060035</td>\n",
       "    </tr>\n",
       "    <tr>\n",
       "      <th>4</th>\n",
       "      <td>0.000136</td>\n",
       "      <td>1.987462</td>\n",
       "      <td>-2.103896</td>\n",
       "      <td>-0.700044</td>\n",
       "      <td>0.469353</td>\n",
       "      <td>-1.045667</td>\n",
       "      <td>-1.308185</td>\n",
       "      <td>0.948097</td>\n",
       "      <td>1.706789</td>\n",
       "      <td>0.123036</td>\n",
       "      <td>-0.886439</td>\n",
       "      <td>-0.903025</td>\n",
       "      <td>0.250410</td>\n",
       "    </tr>\n",
       "  </tbody>\n",
       "</table>\n",
       "</div>"
      ],
      "text/plain": [
       "   fixed acidity  volatile acidity  citric acid  residual sugar  chlorides  \\\n",
       "0       0.000136          1.987462    -2.103896       -0.700044   0.469353   \n",
       "1       0.297489          3.018836    -2.103896       -0.549633   1.060226   \n",
       "2       0.297489          2.331253    -1.842649       -0.614095   0.899079   \n",
       "3       2.824987         -0.419078     1.553554       -0.700044   0.442496   \n",
       "4       0.000136          1.987462    -2.103896       -0.700044   0.469353   \n",
       "\n",
       "   free sulfur dioxide  total sulfur dioxide   density        pH  sulphates  \\\n",
       "0            -1.045667             -1.308185  0.948097  1.706789   0.123036   \n",
       "1            -0.251390             -0.756489  0.605819 -0.196591   0.898637   \n",
       "2            -0.818730             -0.973824  0.674275  0.171805   0.704737   \n",
       "3            -0.705262             -0.873515  1.016553 -0.442189   0.252303   \n",
       "4            -1.045667             -1.308185  0.948097  1.706789   0.123036   \n",
       "\n",
       "    alcohol   quality  ratioSO2  \n",
       "0 -0.886439 -0.903025  0.250410  \n",
       "1 -0.540416 -0.903025  0.633522  \n",
       "2 -0.540416 -0.903025 -0.102942  \n",
       "3 -0.540416  0.221052 -0.060035  \n",
       "4 -0.886439 -0.903025  0.250410  "
      ]
     },
     "execution_count": 32,
     "metadata": {},
     "output_type": "execute_result"
    }
   ],
   "source": [
    "train_features.head()"
   ]
  },
  {
   "cell_type": "markdown",
   "metadata": {},
   "source": [
    "### Model with features tweaked"
   ]
  },
  {
   "cell_type": "code",
   "execution_count": 33,
   "metadata": {},
   "outputs": [],
   "source": [
    "input_shape = (train_features.shape[1],)"
   ]
  },
  {
   "cell_type": "code",
   "execution_count": 34,
   "metadata": {},
   "outputs": [],
   "source": [
    "model = make_model(input_shape=input_shape)"
   ]
  },
  {
   "cell_type": "code",
   "execution_count": 41,
   "metadata": {},
   "outputs": [
    {
     "name": "stdout",
     "output_type": "stream",
     "text": [
      "Epoch 1/30\n",
      "2/2 [==============================] - 0s 165ms/step - loss: 1.2342 - tp: 912.0000 - fp: 691.0000 - tn: 24251.0000 - fn: 3245.0000 - accuracy: 0.8647 - precision: 0.5689 - recall: 0.2194 - auc: 0.8734 - val_loss: 1.2048 - val_tp: 45.0000 - val_fp: 141.0000 - val_tn: 6099.0000 - val_fn: 995.0000 - val_accuracy: 0.8440 - val_precision: 0.2419 - val_recall: 0.0433 - val_auc: 0.8839\n",
      "Epoch 2/30\n",
      "2/2 [==============================] - 0s 105ms/step - loss: 1.2150 - tp: 997.0000 - fp: 660.0000 - tn: 24282.0000 - fn: 3160.0000 - accuracy: 0.8687 - precision: 0.6017 - recall: 0.2398 - auc: 0.8770 - val_loss: 1.1972 - val_tp: 54.0000 - val_fp: 156.0000 - val_tn: 6084.0000 - val_fn: 986.0000 - val_accuracy: 0.8431 - val_precision: 0.2571 - val_recall: 0.0519 - val_auc: 0.8852\n",
      "Epoch 3/30\n",
      "2/2 [==============================] - 0s 125ms/step - loss: 1.2122 - tp: 1016.0000 - fp: 690.0000 - tn: 24252.0000 - fn: 3141.0000 - accuracy: 0.8683 - precision: 0.5955 - recall: 0.2444 - auc: 0.8782 - val_loss: 1.1894 - val_tp: 64.0000 - val_fp: 174.0000 - val_tn: 6066.0000 - val_fn: 976.0000 - val_accuracy: 0.8420 - val_precision: 0.2689 - val_recall: 0.0615 - val_auc: 0.8865\n",
      "Epoch 4/30\n",
      "2/2 [==============================] - 0s 110ms/step - loss: 1.2106 - tp: 1067.0000 - fp: 721.0000 - tn: 24221.0000 - fn: 3090.0000 - accuracy: 0.8690 - precision: 0.5968 - recall: 0.2567 - auc: 0.8782 - val_loss: 1.1815 - val_tp: 73.0000 - val_fp: 191.0000 - val_tn: 6049.0000 - val_fn: 967.0000 - val_accuracy: 0.8409 - val_precision: 0.2765 - val_recall: 0.0702 - val_auc: 0.8878\n",
      "Epoch 5/30\n",
      "2/2 [==============================] - 0s 107ms/step - loss: 1.2012 - tp: 1057.0000 - fp: 703.0000 - tn: 24239.0000 - fn: 3100.0000 - accuracy: 0.8693 - precision: 0.6006 - recall: 0.2543 - auc: 0.8806 - val_loss: 1.1736 - val_tp: 77.0000 - val_fp: 200.0000 - val_tn: 6040.0000 - val_fn: 963.0000 - val_accuracy: 0.8402 - val_precision: 0.2780 - val_recall: 0.0740 - val_auc: 0.8894\n",
      "Epoch 6/30\n",
      "2/2 [==============================] - 0s 126ms/step - loss: 1.1915 - tp: 1098.0000 - fp: 686.0000 - tn: 24256.0000 - fn: 3059.0000 - accuracy: 0.8713 - precision: 0.6155 - recall: 0.2641 - auc: 0.8827 - val_loss: 1.1660 - val_tp: 83.0000 - val_fp: 202.0000 - val_tn: 6038.0000 - val_fn: 957.0000 - val_accuracy: 0.8408 - val_precision: 0.2912 - val_recall: 0.0798 - val_auc: 0.8906\n",
      "Epoch 7/30\n",
      "2/2 [==============================] - 0s 119ms/step - loss: 1.1867 - tp: 1093.0000 - fp: 697.0000 - tn: 24245.0000 - fn: 3064.0000 - accuracy: 0.8708 - precision: 0.6106 - recall: 0.2629 - auc: 0.8838 - val_loss: 1.1585 - val_tp: 93.0000 - val_fp: 205.0000 - val_tn: 6035.0000 - val_fn: 947.0000 - val_accuracy: 0.8418 - val_precision: 0.3121 - val_recall: 0.0894 - val_auc: 0.8918\n",
      "Epoch 8/30\n",
      "2/2 [==============================] - 0s 130ms/step - loss: 1.1878 - tp: 1117.0000 - fp: 710.0000 - tn: 24232.0000 - fn: 3040.0000 - accuracy: 0.8711 - precision: 0.6114 - recall: 0.2687 - auc: 0.8833 - val_loss: 1.1510 - val_tp: 100.0000 - val_fp: 210.0000 - val_tn: 6030.0000 - val_fn: 940.0000 - val_accuracy: 0.8420 - val_precision: 0.3226 - val_recall: 0.0962 - val_auc: 0.8930\n",
      "Epoch 9/30\n",
      "2/2 [==============================] - 0s 137ms/step - loss: 1.1725 - tp: 1154.0000 - fp: 740.0000 - tn: 24202.0000 - fn: 3003.0000 - accuracy: 0.8714 - precision: 0.6093 - recall: 0.2776 - auc: 0.8866 - val_loss: 1.1434 - val_tp: 106.0000 - val_fp: 213.0000 - val_tn: 6027.0000 - val_fn: 934.0000 - val_accuracy: 0.8424 - val_precision: 0.3323 - val_recall: 0.1019 - val_auc: 0.8944\n",
      "Epoch 10/30\n",
      "2/2 [==============================] - 0s 144ms/step - loss: 1.1601 - tp: 1214.0000 - fp: 712.0000 - tn: 24230.0000 - fn: 2943.0000 - accuracy: 0.8744 - precision: 0.6303 - recall: 0.2920 - auc: 0.8892 - val_loss: 1.1356 - val_tp: 109.0000 - val_fp: 215.0000 - val_tn: 6025.0000 - val_fn: 931.0000 - val_accuracy: 0.8426 - val_precision: 0.3364 - val_recall: 0.1048 - val_auc: 0.8957\n",
      "Epoch 11/30\n",
      "2/2 [==============================] - 0s 116ms/step - loss: 1.1525 - tp: 1201.0000 - fp: 719.0000 - tn: 24223.0000 - fn: 2956.0000 - accuracy: 0.8737 - precision: 0.6255 - recall: 0.2889 - auc: 0.8909 - val_loss: 1.1277 - val_tp: 113.0000 - val_fp: 220.0000 - val_tn: 6020.0000 - val_fn: 927.0000 - val_accuracy: 0.8424 - val_precision: 0.3393 - val_recall: 0.1087 - val_auc: 0.8971\n",
      "Epoch 12/30\n",
      "2/2 [==============================] - 0s 148ms/step - loss: 1.1458 - tp: 1197.0000 - fp: 746.0000 - tn: 24196.0000 - fn: 2960.0000 - accuracy: 0.8726 - precision: 0.6161 - recall: 0.2879 - auc: 0.8922 - val_loss: 1.1198 - val_tp: 120.0000 - val_fp: 228.0000 - val_tn: 6012.0000 - val_fn: 920.0000 - val_accuracy: 0.8423 - val_precision: 0.3448 - val_recall: 0.1154 - val_auc: 0.8985\n",
      "Epoch 13/30\n",
      "2/2 [==============================] - 0s 148ms/step - loss: 1.1387 - tp: 1243.0000 - fp: 767.0000 - tn: 24175.0000 - fn: 2914.0000 - accuracy: 0.8735 - precision: 0.6184 - recall: 0.2990 - auc: 0.8932 - val_loss: 1.1119 - val_tp: 134.0000 - val_fp: 229.0000 - val_tn: 6011.0000 - val_fn: 906.0000 - val_accuracy: 0.8441 - val_precision: 0.3691 - val_recall: 0.1288 - val_auc: 0.9000\n",
      "Epoch 14/30\n",
      "2/2 [==============================] - 0s 113ms/step - loss: 1.1361 - tp: 1277.0000 - fp: 747.0000 - tn: 24195.0000 - fn: 2880.0000 - accuracy: 0.8754 - precision: 0.6309 - recall: 0.3072 - auc: 0.8940 - val_loss: 1.1043 - val_tp: 139.0000 - val_fp: 223.0000 - val_tn: 6017.0000 - val_fn: 901.0000 - val_accuracy: 0.8456 - val_precision: 0.3840 - val_recall: 0.1337 - val_auc: 0.9015\n",
      "Epoch 15/30\n",
      "2/2 [==============================] - 0s 128ms/step - loss: 1.1259 - tp: 1301.0000 - fp: 691.0000 - tn: 24251.0000 - fn: 2856.0000 - accuracy: 0.8781 - precision: 0.6531 - recall: 0.3130 - auc: 0.8961 - val_loss: 1.0968 - val_tp: 145.0000 - val_fp: 225.0000 - val_tn: 6015.0000 - val_fn: 895.0000 - val_accuracy: 0.8462 - val_precision: 0.3919 - val_recall: 0.1394 - val_auc: 0.9028\n",
      "Epoch 16/30\n",
      "2/2 [==============================] - 0s 106ms/step - loss: 1.1167 - tp: 1311.0000 - fp: 726.0000 - tn: 24216.0000 - fn: 2846.0000 - accuracy: 0.8772 - precision: 0.6436 - recall: 0.3154 - auc: 0.8976 - val_loss: 1.0896 - val_tp: 156.0000 - val_fp: 223.0000 - val_tn: 6017.0000 - val_fn: 884.0000 - val_accuracy: 0.8479 - val_precision: 0.4116 - val_recall: 0.1500 - val_auc: 0.9042\n",
      "Epoch 17/30\n",
      "2/2 [==============================] - 0s 118ms/step - loss: 1.1147 - tp: 1335.0000 - fp: 719.0000 - tn: 24223.0000 - fn: 2822.0000 - accuracy: 0.8783 - precision: 0.6500 - recall: 0.3211 - auc: 0.8979 - val_loss: 1.0823 - val_tp: 171.0000 - val_fp: 223.0000 - val_tn: 6017.0000 - val_fn: 869.0000 - val_accuracy: 0.8500 - val_precision: 0.4340 - val_recall: 0.1644 - val_auc: 0.9054\n",
      "Epoch 18/30\n",
      "2/2 [==============================] - 0s 109ms/step - loss: 1.1130 - tp: 1340.0000 - fp: 791.0000 - tn: 24151.0000 - fn: 2817.0000 - accuracy: 0.8760 - precision: 0.6288 - recall: 0.3223 - auc: 0.8988 - val_loss: 1.0752 - val_tp: 180.0000 - val_fp: 233.0000 - val_tn: 6007.0000 - val_fn: 860.0000 - val_accuracy: 0.8499 - val_precision: 0.4358 - val_recall: 0.1731 - val_auc: 0.9064\n",
      "Epoch 19/30\n",
      "2/2 [==============================] - 0s 112ms/step - loss: 1.0992 - tp: 1409.0000 - fp: 779.0000 - tn: 24163.0000 - fn: 2748.0000 - accuracy: 0.8788 - precision: 0.6440 - recall: 0.3389 - auc: 0.9009 - val_loss: 1.0683 - val_tp: 200.0000 - val_fp: 242.0000 - val_tn: 5998.0000 - val_fn: 840.0000 - val_accuracy: 0.8514 - val_precision: 0.4525 - val_recall: 0.1923 - val_auc: 0.9077\n",
      "Epoch 20/30\n",
      "2/2 [==============================] - 0s 114ms/step - loss: 1.0933 - tp: 1405.0000 - fp: 772.0000 - tn: 24170.0000 - fn: 2752.0000 - accuracy: 0.8789 - precision: 0.6454 - recall: 0.3380 - auc: 0.9021 - val_loss: 1.0614 - val_tp: 214.0000 - val_fp: 244.0000 - val_tn: 5996.0000 - val_fn: 826.0000 - val_accuracy: 0.8530 - val_precision: 0.4672 - val_recall: 0.2058 - val_auc: 0.9088\n",
      "Epoch 21/30\n",
      "2/2 [==============================] - 0s 123ms/step - loss: 1.0816 - tp: 1501.0000 - fp: 801.0000 - tn: 24141.0000 - fn: 2656.0000 - accuracy: 0.8812 - precision: 0.6520 - recall: 0.3611 - auc: 0.9039 - val_loss: 1.0543 - val_tp: 239.0000 - val_fp: 244.0000 - val_tn: 5996.0000 - val_fn: 801.0000 - val_accuracy: 0.8565 - val_precision: 0.4948 - val_recall: 0.2298 - val_auc: 0.9101\n"
     ]
    },
    {
     "name": "stdout",
     "output_type": "stream",
     "text": [
      "Epoch 22/30\n",
      "2/2 [==============================] - 0s 112ms/step - loss: 1.0814 - tp: 1481.0000 - fp: 779.0000 - tn: 24163.0000 - fn: 2676.0000 - accuracy: 0.8813 - precision: 0.6553 - recall: 0.3563 - auc: 0.9045 - val_loss: 1.0471 - val_tp: 250.0000 - val_fp: 241.0000 - val_tn: 5999.0000 - val_fn: 790.0000 - val_accuracy: 0.8584 - val_precision: 0.5092 - val_recall: 0.2404 - val_auc: 0.9117\n",
      "Epoch 23/30\n",
      "2/2 [==============================] - 0s 119ms/step - loss: 1.0719 - tp: 1551.0000 - fp: 770.0000 - tn: 24172.0000 - fn: 2606.0000 - accuracy: 0.8840 - precision: 0.6682 - recall: 0.3731 - auc: 0.9055 - val_loss: 1.0399 - val_tp: 262.0000 - val_fp: 234.0000 - val_tn: 6006.0000 - val_fn: 778.0000 - val_accuracy: 0.8610 - val_precision: 0.5282 - val_recall: 0.2519 - val_auc: 0.9131\n",
      "Epoch 24/30\n",
      "2/2 [==============================] - 0s 105ms/step - loss: 1.0682 - tp: 1517.0000 - fp: 796.0000 - tn: 24146.0000 - fn: 2640.0000 - accuracy: 0.8819 - precision: 0.6559 - recall: 0.3649 - auc: 0.9063 - val_loss: 1.0329 - val_tp: 277.0000 - val_fp: 231.0000 - val_tn: 6009.0000 - val_fn: 763.0000 - val_accuracy: 0.8635 - val_precision: 0.5453 - val_recall: 0.2663 - val_auc: 0.9148\n",
      "Epoch 25/30\n",
      "2/2 [==============================] - 0s 137ms/step - loss: 1.0579 - tp: 1544.0000 - fp: 797.0000 - tn: 24145.0000 - fn: 2613.0000 - accuracy: 0.8828 - precision: 0.6595 - recall: 0.3714 - auc: 0.9085 - val_loss: 1.0260 - val_tp: 291.0000 - val_fp: 213.0000 - val_tn: 6027.0000 - val_fn: 749.0000 - val_accuracy: 0.8679 - val_precision: 0.5774 - val_recall: 0.2798 - val_auc: 0.9164\n",
      "Epoch 26/30\n",
      "2/2 [==============================] - 0s 115ms/step - loss: 1.0464 - tp: 1566.0000 - fp: 774.0000 - tn: 24168.0000 - fn: 2591.0000 - accuracy: 0.8844 - precision: 0.6692 - recall: 0.3767 - auc: 0.9110 - val_loss: 1.0191 - val_tp: 302.0000 - val_fp: 207.0000 - val_tn: 6033.0000 - val_fn: 738.0000 - val_accuracy: 0.8702 - val_precision: 0.5933 - val_recall: 0.2904 - val_auc: 0.9180\n",
      "Epoch 27/30\n",
      "2/2 [==============================] - 0s 131ms/step - loss: 1.0450 - tp: 1637.0000 - fp: 760.0000 - tn: 24182.0000 - fn: 2520.0000 - accuracy: 0.8873 - precision: 0.6829 - recall: 0.3938 - auc: 0.9110 - val_loss: 1.0121 - val_tp: 312.0000 - val_fp: 201.0000 - val_tn: 6039.0000 - val_fn: 728.0000 - val_accuracy: 0.8724 - val_precision: 0.6082 - val_recall: 0.3000 - val_auc: 0.9195\n",
      "Epoch 28/30\n",
      "2/2 [==============================] - 0s 155ms/step - loss: 1.0464 - tp: 1613.0000 - fp: 788.0000 - tn: 24154.0000 - fn: 2544.0000 - accuracy: 0.8855 - precision: 0.6718 - recall: 0.3880 - auc: 0.9109 - val_loss: 1.0052 - val_tp: 333.0000 - val_fp: 202.0000 - val_tn: 6038.0000 - val_fn: 707.0000 - val_accuracy: 0.8751 - val_precision: 0.6224 - val_recall: 0.3202 - val_auc: 0.9210\n",
      "Epoch 29/30\n",
      "2/2 [==============================] - 0s 132ms/step - loss: 1.0344 - tp: 1673.0000 - fp: 743.0000 - tn: 24199.0000 - fn: 2484.0000 - accuracy: 0.8891 - precision: 0.6925 - recall: 0.4025 - auc: 0.9126 - val_loss: 0.9983 - val_tp: 352.0000 - val_fp: 196.0000 - val_tn: 6044.0000 - val_fn: 688.0000 - val_accuracy: 0.8786 - val_precision: 0.6423 - val_recall: 0.3385 - val_auc: 0.9222\n",
      "Epoch 30/30\n",
      "2/2 [==============================] - 0s 145ms/step - loss: 1.0195 - tp: 1739.0000 - fp: 783.0000 - tn: 24159.0000 - fn: 2418.0000 - accuracy: 0.8900 - precision: 0.6895 - recall: 0.4183 - auc: 0.9145 - val_loss: 0.9914 - val_tp: 361.0000 - val_fp: 193.0000 - val_tn: 6047.0000 - val_fn: 679.0000 - val_accuracy: 0.8802 - val_precision: 0.6516 - val_recall: 0.3471 - val_auc: 0.9237\n"
     ]
    }
   ],
   "source": [
    "tweaked_history = model.fit(\n",
    "    train_features,\n",
    "    train_target,\n",
    "    batch_size=BATCH_SIZE,\n",
    "    epochs=EPOCHS,\n",
    "    callbacks=[early_stopping],\n",
    "    validation_split=0.2)"
   ]
  },
  {
   "cell_type": "code",
   "execution_count": 36,
   "metadata": {},
   "outputs": [
    {
     "data": {
      "image/png": "[encoded data removed]",
      "text/plain": [
       "<Figure size 864x720 with 4 Axes>"
      ]
     },
     "metadata": {
      "needs_background": "light"
     },
     "output_type": "display_data"
    }
   ],
   "source": [
    "plot_metrics(tweaked_history)"
   ]
  },
  {
   "cell_type": "code",
   "execution_count": 42,
   "metadata": {},
   "outputs": [
    {
     "data": {
      "text/plain": [
       "1300"
      ]
     },
     "execution_count": 42,
     "metadata": {},
     "output_type": "execute_result"
    }
   ],
   "source": [
    "len(test_features)"
   ]
  },
  {
   "cell_type": "code",
   "execution_count": 43,
   "metadata": {},
   "outputs": [
    {
     "name": "stdout",
     "output_type": "stream",
     "text": [
      "41/41 [==============================] - 0s 2ms/step - loss: 0.8933 - tp: 560.0000 - fp: 192.0000 - tn: 7608.0000 - fn: 740.0000 - accuracy: 0.8976 - precision: 0.7447 - recall: 0.4308 - auc: 0.9455\n"
     ]
    },
    {
     "data": {
      "text/plain": [
       "[0.8932563662528992,\n",
       " 560.0,\n",
       " 192.0,\n",
       " 7608.0,\n",
       " 740.0,\n",
       " 0.897582471370697,\n",
       " 0.7446808218955994,\n",
       " 0.4307692348957062,\n",
       " 0.9455165266990662]"
      ]
     },
     "execution_count": 43,
     "metadata": {},
     "output_type": "execute_result"
    }
   ],
   "source": [
    "model.evaluate(test_features,test_target)"
   ]
  },
  {
   "cell_type": "code",
   "execution_count": 39,
   "metadata": {},
   "outputs": [
    {
     "name": "stdout",
     "output_type": "stream",
     "text": [
      "Confusion Matrix\n",
      "\n"
     ]
    },
    {
     "data": {
      "text/plain": [
       "array([[  0,   0,   2,   0,   0,   0],\n",
       "       [  0,   0,  31,   2,   0,   0],\n",
       "       [  0,   0, 287,  77,   0,   0],\n",
       "       [  0,   0,  61, 593,   0,   0],\n",
       "       [  0,   0,   0, 216,   0,   0],\n",
       "       [  0,   0,   0,  31,   0,   0]], dtype=int64)"
      ]
     },
     "execution_count": 39,
     "metadata": {},
     "output_type": "execute_result"
    }
   ],
   "source": [
    "from sklearn.metrics import confusion_matrix\n",
    "\n",
    "pred = model.predict(test_features)\n",
    "confusion = confusion_matrix(test_target.argmax(axis=1), pred.argmax(axis=1))\n",
    "print('Confusion Matrix\\n')\n",
    "confusion"
   ]
  },
  {
   "cell_type": "code",
   "execution_count": 40,
   "metadata": {},
   "outputs": [
    {
     "ename": "NameError",
     "evalue": "name 'stop' is not defined",
     "output_type": "error",
     "traceback": [
      "\u001b[1;31m---------------------------------------------------------------------------\u001b[0m",
      "\u001b[1;31mNameError\u001b[0m                                 Traceback (most recent call last)",
      "\u001b[1;32m<ipython-input-40-4f76a9dad686>\u001b[0m in \u001b[0;36m<module>\u001b[1;34m\u001b[0m\n\u001b[1;32m----> 1\u001b[1;33m \u001b[0mstop\u001b[0m\u001b[1;33m\u001b[0m\u001b[1;33m\u001b[0m\u001b[0m\n\u001b[0m",
      "\u001b[1;31mNameError\u001b[0m: name 'stop' is not defined"
     ]
    }
   ],
   "source": [
    "stop"
   ]
  },
  {
   "cell_type": "code",
   "execution_count": null,
   "metadata": {},
   "outputs": [],
   "source": [
    "#wine[\"quality\"].value_counts()"
   ]
  },
  {
   "cell_type": "code",
   "execution_count": null,
   "metadata": {},
   "outputs": [],
   "source": [
    "#from sklearn.metrics import classification_report\n",
    "#print('\\nClassification Report\\n')\n",
    "#print(classification_report(test_target.argmax(axis=1),pred.argmax(axis=1)))"
   ]
  },
  {
   "cell_type": "markdown",
   "metadata": {},
   "source": [
    "------------------------------------------------------------------------------------------------------"
   ]
  },
  {
   "cell_type": "markdown",
   "metadata": {},
   "source": [
    "### Class weights"
   ]
  },
  {
   "cell_type": "code",
   "execution_count": 44,
   "metadata": {},
   "outputs": [],
   "source": [
    "counts = np.bincount(wine_modif['quality'].values)"
   ]
  },
  {
   "cell_type": "code",
   "execution_count": 45,
   "metadata": {},
   "outputs": [],
   "source": [
    "weights = wine_modif['quality'].value_counts()/len(wine_modif)"
   ]
  },
  {
   "cell_type": "code",
   "execution_count": 46,
   "metadata": {},
   "outputs": [],
   "source": [
    " x = weights.to_dict()"
   ]
  },
  {
   "cell_type": "code",
   "execution_count": 47,
   "metadata": {},
   "outputs": [
    {
     "data": {
      "text/plain": [
       "{6: 0.43650915807295676,\n",
       " 5: 0.32907495767277206,\n",
       " 7: 0.1660766507618901,\n",
       " 4: 0.0332461135908881,\n",
       " 8: 0.02970601816222872,\n",
       " 3: 0.0046175157765122364,\n",
       " 9: 0.0007695859627520394}"
      ]
     },
     "execution_count": 47,
     "metadata": {},
     "output_type": "execute_result"
    }
   ],
   "source": [
    "x"
   ]
  },
  {
   "cell_type": "code",
   "execution_count": 48,
   "metadata": {},
   "outputs": [],
   "source": [
    "labels = wine_modif['quality'].values\n",
    "y_w = labels[:split_index]"
   ]
  },
  {
   "cell_type": "code",
   "execution_count": 49,
   "metadata": {},
   "outputs": [],
   "source": [
    "from sklearn.utils import class_weight\n",
    "class_weights = dict(zip([0,1,2,3,4,5,6], class_weight.compute_class_weight(None, classes = np.unique(y_w), \n",
    "                y=y_w))) "
   ]
  },
  {
   "cell_type": "markdown",
   "metadata": {},
   "source": [
    "# Let's test with weight changes"
   ]
  },
  {
   "cell_type": "code",
   "execution_count": 50,
   "metadata": {},
   "outputs": [],
   "source": [
    "weighted_model = make_model(input_shape=input_shape)"
   ]
  },
  {
   "cell_type": "code",
   "execution_count": 54,
   "metadata": {},
   "outputs": [
    {
     "name": "stdout",
     "output_type": "stream",
     "text": [
      "Epoch 1/50\n",
      "2/2 [==============================] - 0s 220ms/step - loss: 1.0634 - tp: 1665.0000 - fp: 804.0000 - tn: 24138.0000 - fn: 2492.0000 - accuracy: 0.8867 - precision: 0.6744 - recall: 0.4005 - auc: 0.9059 - val_loss: 1.0680 - val_tp: 357.0000 - val_fp: 326.0000 - val_tn: 5914.0000 - val_fn: 683.0000 - val_accuracy: 0.8614 - val_precision: 0.5227 - val_recall: 0.3433 - val_auc: 0.8994\n",
      "Epoch 2/50\n",
      "2/2 [==============================] - 0s 122ms/step - loss: 1.0605 - tp: 1595.0000 - fp: 758.0000 - tn: 24184.0000 - fn: 2562.0000 - accuracy: 0.8859 - precision: 0.6779 - recall: 0.3837 - auc: 0.9067 - val_loss: 1.0588 - val_tp: 362.0000 - val_fp: 323.0000 - val_tn: 5917.0000 - val_fn: 678.0000 - val_accuracy: 0.8625 - val_precision: 0.5285 - val_recall: 0.3481 - val_auc: 0.9025\n",
      "Epoch 3/50\n",
      "2/2 [==============================] - 0s 133ms/step - loss: 1.0548 - tp: 1678.0000 - fp: 769.0000 - tn: 24173.0000 - fn: 2479.0000 - accuracy: 0.8884 - precision: 0.6857 - recall: 0.4037 - auc: 0.9074 - val_loss: 1.0497 - val_tp: 366.0000 - val_fp: 319.0000 - val_tn: 5921.0000 - val_fn: 674.0000 - val_accuracy: 0.8636 - val_precision: 0.5343 - val_recall: 0.3519 - val_auc: 0.9049\n",
      "Epoch 4/50\n",
      "2/2 [==============================] - 0s 139ms/step - loss: 1.0453 - tp: 1668.0000 - fp: 806.0000 - tn: 24136.0000 - fn: 2489.0000 - accuracy: 0.8868 - precision: 0.6742 - recall: 0.4013 - auc: 0.9084 - val_loss: 1.0407 - val_tp: 377.0000 - val_fp: 311.0000 - val_tn: 5929.0000 - val_fn: 663.0000 - val_accuracy: 0.8662 - val_precision: 0.5480 - val_recall: 0.3625 - val_auc: 0.9070\n",
      "Epoch 5/50\n",
      "2/2 [==============================] - 0s 116ms/step - loss: 1.0326 - tp: 1739.0000 - fp: 748.0000 - tn: 24194.0000 - fn: 2418.0000 - accuracy: 0.8912 - precision: 0.6992 - recall: 0.4183 - auc: 0.9115 - val_loss: 1.0313 - val_tp: 416.0000 - val_fp: 310.0000 - val_tn: 5930.0000 - val_fn: 624.0000 - val_accuracy: 0.8717 - val_precision: 0.5730 - val_recall: 0.4000 - val_auc: 0.9097\n",
      "Epoch 6/50\n",
      "2/2 [==============================] - 0s 126ms/step - loss: 1.0273 - tp: 1734.0000 - fp: 790.0000 - tn: 24152.0000 - fn: 2423.0000 - accuracy: 0.8896 - precision: 0.6870 - recall: 0.4171 - auc: 0.9119 - val_loss: 1.0217 - val_tp: 450.0000 - val_fp: 307.0000 - val_tn: 5933.0000 - val_fn: 590.0000 - val_accuracy: 0.8768 - val_precision: 0.5945 - val_recall: 0.4327 - val_auc: 0.9125\n",
      "Epoch 7/50\n",
      "2/2 [==============================] - 0s 138ms/step - loss: 1.0190 - tp: 1768.0000 - fp: 784.0000 - tn: 24158.0000 - fn: 2389.0000 - accuracy: 0.8910 - precision: 0.6928 - recall: 0.4253 - auc: 0.9138 - val_loss: 1.0123 - val_tp: 472.0000 - val_fp: 300.0000 - val_tn: 5940.0000 - val_fn: 568.0000 - val_accuracy: 0.8808 - val_precision: 0.6114 - val_recall: 0.4538 - val_auc: 0.9153\n",
      "Epoch 8/50\n",
      "2/2 [==============================] - 0s 111ms/step - loss: 1.0158 - tp: 1868.0000 - fp: 799.0000 - tn: 24143.0000 - fn: 2289.0000 - accuracy: 0.8939 - precision: 0.7004 - recall: 0.4494 - auc: 0.9140 - val_loss: 1.0032 - val_tp: 475.0000 - val_fp: 294.0000 - val_tn: 5946.0000 - val_fn: 565.0000 - val_accuracy: 0.8820 - val_precision: 0.6177 - val_recall: 0.4567 - val_auc: 0.9179\n",
      "Epoch 9/50\n",
      "2/2 [==============================] - 0s 104ms/step - loss: 1.0072 - tp: 1796.0000 - fp: 800.0000 - tn: 24142.0000 - fn: 2361.0000 - accuracy: 0.8914 - precision: 0.6918 - recall: 0.4320 - auc: 0.9158 - val_loss: 0.9944 - val_tp: 473.0000 - val_fp: 281.0000 - val_tn: 5959.0000 - val_fn: 567.0000 - val_accuracy: 0.8835 - val_precision: 0.6273 - val_recall: 0.4548 - val_auc: 0.9208\n",
      "Epoch 10/50\n",
      "2/2 [==============================] - 0s 113ms/step - loss: 0.9947 - tp: 1830.0000 - fp: 788.0000 - tn: 24154.0000 - fn: 2327.0000 - accuracy: 0.8930 - precision: 0.6990 - recall: 0.4402 - auc: 0.9180 - val_loss: 0.9862 - val_tp: 480.0000 - val_fp: 267.0000 - val_tn: 5973.0000 - val_fn: 560.0000 - val_accuracy: 0.8864 - val_precision: 0.6426 - val_recall: 0.4615 - val_auc: 0.9232\n",
      "Epoch 11/50\n",
      "2/2 [==============================] - 0s 108ms/step - loss: 0.9881 - tp: 1925.0000 - fp: 763.0000 - tn: 24179.0000 - fn: 2232.0000 - accuracy: 0.8971 - precision: 0.7161 - recall: 0.4631 - auc: 0.9186 - val_loss: 0.9777 - val_tp: 489.0000 - val_fp: 259.0000 - val_tn: 5981.0000 - val_fn: 551.0000 - val_accuracy: 0.8887 - val_precision: 0.6537 - val_recall: 0.4702 - val_auc: 0.9256\n",
      "Epoch 12/50\n",
      "2/2 [==============================] - 0s 275ms/step - loss: 0.9833 - tp: 1905.0000 - fp: 755.0000 - tn: 24187.0000 - fn: 2252.0000 - accuracy: 0.8967 - precision: 0.7162 - recall: 0.4583 - auc: 0.9201 - val_loss: 0.9691 - val_tp: 510.0000 - val_fp: 249.0000 - val_tn: 5991.0000 - val_fn: 530.0000 - val_accuracy: 0.8930 - val_precision: 0.6719 - val_recall: 0.4904 - val_auc: 0.9276\n",
      "Epoch 13/50\n",
      "2/2 [==============================] - 0s 118ms/step - loss: 0.9732 - tp: 1979.0000 - fp: 765.0000 - tn: 24177.0000 - fn: 2178.0000 - accuracy: 0.8989 - precision: 0.7212 - recall: 0.4761 - auc: 0.9215 - val_loss: 0.9601 - val_tp: 512.0000 - val_fp: 231.0000 - val_tn: 6009.0000 - val_fn: 528.0000 - val_accuracy: 0.8957 - val_precision: 0.6891 - val_recall: 0.4923 - val_auc: 0.9302\n",
      "Epoch 14/50\n",
      "2/2 [==============================] - 0s 132ms/step - loss: 0.9666 - tp: 2003.0000 - fp: 769.0000 - tn: 24173.0000 - fn: 2154.0000 - accuracy: 0.8995 - precision: 0.7226 - recall: 0.4818 - auc: 0.9229 - val_loss: 0.9515 - val_tp: 522.0000 - val_fp: 218.0000 - val_tn: 6022.0000 - val_fn: 518.0000 - val_accuracy: 0.8989 - val_precision: 0.7054 - val_recall: 0.5019 - val_auc: 0.9323\n",
      "Epoch 15/50\n",
      "2/2 [==============================] - 0s 117ms/step - loss: 0.9625 - tp: 1978.0000 - fp: 739.0000 - tn: 24203.0000 - fn: 2179.0000 - accuracy: 0.8997 - precision: 0.7280 - recall: 0.4758 - auc: 0.9237 - val_loss: 0.9433 - val_tp: 543.0000 - val_fp: 211.0000 - val_tn: 6029.0000 - val_fn: 497.0000 - val_accuracy: 0.9027 - val_precision: 0.7202 - val_recall: 0.5221 - val_auc: 0.9341\n",
      "Epoch 16/50\n",
      "2/2 [==============================] - 0s 152ms/step - loss: 0.9639 - tp: 1970.0000 - fp: 772.0000 - tn: 24170.0000 - fn: 2187.0000 - accuracy: 0.8983 - precision: 0.7185 - recall: 0.4739 - auc: 0.9232 - val_loss: 0.9353 - val_tp: 560.0000 - val_fp: 206.0000 - val_tn: 6034.0000 - val_fn: 480.0000 - val_accuracy: 0.9058 - val_precision: 0.7311 - val_recall: 0.5385 - val_auc: 0.9358\n",
      "Epoch 17/50\n",
      "2/2 [==============================] - 0s 219ms/step - loss: 0.9523 - tp: 2063.0000 - fp: 766.0000 - tn: 24176.0000 - fn: 2094.0000 - accuracy: 0.9017 - precision: 0.7292 - recall: 0.4963 - auc: 0.9248 - val_loss: 0.9269 - val_tp: 568.0000 - val_fp: 190.0000 - val_tn: 6050.0000 - val_fn: 472.0000 - val_accuracy: 0.9091 - val_precision: 0.7493 - val_recall: 0.5462 - val_auc: 0.9376\n",
      "Epoch 18/50\n",
      "2/2 [==============================] - 0s 170ms/step - loss: 0.9381 - tp: 2079.0000 - fp: 735.0000 - tn: 24207.0000 - fn: 2078.0000 - accuracy: 0.9033 - precision: 0.7388 - recall: 0.5001 - auc: 0.9272 - val_loss: 0.9185 - val_tp: 568.0000 - val_fp: 176.0000 - val_tn: 6064.0000 - val_fn: 472.0000 - val_accuracy: 0.9110 - val_precision: 0.7634 - val_recall: 0.5462 - val_auc: 0.9396\n",
      "Epoch 19/50\n",
      "2/2 [==============================] - 0s 138ms/step - loss: 0.9336 - tp: 2067.0000 - fp: 722.0000 - tn: 24220.0000 - fn: 2090.0000 - accuracy: 0.9034 - precision: 0.7411 - recall: 0.4972 - auc: 0.9283 - val_loss: 0.9102 - val_tp: 569.0000 - val_fp: 163.0000 - val_tn: 6077.0000 - val_fn: 471.0000 - val_accuracy: 0.9129 - val_precision: 0.7773 - val_recall: 0.5471 - val_auc: 0.9413\n",
      "Epoch 20/50\n",
      "2/2 [==============================] - 0s 141ms/step - loss: 0.9306 - tp: 2118.0000 - fp: 745.0000 - tn: 24197.0000 - fn: 2039.0000 - accuracy: 0.9043 - precision: 0.7398 - recall: 0.5095 - auc: 0.9287 - val_loss: 0.9023 - val_tp: 579.0000 - val_fp: 156.0000 - val_tn: 6084.0000 - val_fn: 461.0000 - val_accuracy: 0.9152 - val_precision: 0.7878 - val_recall: 0.5567 - val_auc: 0.9426\n",
      "Epoch 21/50\n",
      "2/2 [==============================] - 0s 118ms/step - loss: 0.9157 - tp: 2208.0000 - fp: 698.0000 - tn: 24244.0000 - fn: 1949.0000 - accuracy: 0.9090 - precision: 0.7598 - recall: 0.5312 - auc: 0.9315 - val_loss: 0.8945 - val_tp: 587.0000 - val_fp: 152.0000 - val_tn: 6088.0000 - val_fn: 453.0000 - val_accuracy: 0.9169 - val_precision: 0.7943 - val_recall: 0.5644 - val_auc: 0.9438\n"
     ]
    },
    {
     "name": "stdout",
     "output_type": "stream",
     "text": [
      "Epoch 22/50\n",
      "2/2 [==============================] - 0s 124ms/step - loss: 0.9179 - tp: 2226.0000 - fp: 719.0000 - tn: 24223.0000 - fn: 1931.0000 - accuracy: 0.9089 - precision: 0.7559 - recall: 0.5355 - auc: 0.9310 - val_loss: 0.8867 - val_tp: 599.0000 - val_fp: 141.0000 - val_tn: 6099.0000 - val_fn: 441.0000 - val_accuracy: 0.9201 - val_precision: 0.8095 - val_recall: 0.5760 - val_auc: 0.9450\n",
      "Epoch 23/50\n",
      "2/2 [==============================] - 0s 152ms/step - loss: 0.9029 - tp: 2240.0000 - fp: 682.0000 - tn: 24260.0000 - fn: 1917.0000 - accuracy: 0.9107 - precision: 0.7666 - recall: 0.5389 - auc: 0.9335 - val_loss: 0.8785 - val_tp: 603.0000 - val_fp: 136.0000 - val_tn: 6104.0000 - val_fn: 437.0000 - val_accuracy: 0.9213 - val_precision: 0.8160 - val_recall: 0.5798 - val_auc: 0.9465\n",
      "Epoch 24/50\n",
      "2/2 [==============================] - 0s 127ms/step - loss: 0.8919 - tp: 2281.0000 - fp: 686.0000 - tn: 24256.0000 - fn: 1876.0000 - accuracy: 0.9120 - precision: 0.7688 - recall: 0.5487 - auc: 0.9353 - val_loss: 0.8702 - val_tp: 619.0000 - val_fp: 132.0000 - val_tn: 6108.0000 - val_fn: 421.0000 - val_accuracy: 0.9240 - val_precision: 0.8242 - val_recall: 0.5952 - val_auc: 0.9477\n",
      "Epoch 25/50\n",
      "2/2 [==============================] - 0s 116ms/step - loss: 0.8928 - tp: 2326.0000 - fp: 703.0000 - tn: 24239.0000 - fn: 1831.0000 - accuracy: 0.9129 - precision: 0.7679 - recall: 0.5595 - auc: 0.9352 - val_loss: 0.8621 - val_tp: 629.0000 - val_fp: 127.0000 - val_tn: 6113.0000 - val_fn: 411.0000 - val_accuracy: 0.9261 - val_precision: 0.8320 - val_recall: 0.6048 - val_auc: 0.9491\n",
      "Epoch 26/50\n",
      "2/2 [==============================] - 0s 106ms/step - loss: 0.8825 - tp: 2329.0000 - fp: 683.0000 - tn: 24259.0000 - fn: 1828.0000 - accuracy: 0.9137 - precision: 0.7732 - recall: 0.5603 - auc: 0.9364 - val_loss: 0.8543 - val_tp: 634.0000 - val_fp: 126.0000 - val_tn: 6114.0000 - val_fn: 406.0000 - val_accuracy: 0.9269 - val_precision: 0.8342 - val_recall: 0.6096 - val_auc: 0.9501\n",
      "Epoch 27/50\n",
      "2/2 [==============================] - 0s 126ms/step - loss: 0.8867 - tp: 2362.0000 - fp: 680.0000 - tn: 24262.0000 - fn: 1795.0000 - accuracy: 0.9149 - precision: 0.7765 - recall: 0.5682 - auc: 0.9353 - val_loss: 0.8470 - val_tp: 639.0000 - val_fp: 129.0000 - val_tn: 6111.0000 - val_fn: 401.0000 - val_accuracy: 0.9272 - val_precision: 0.8320 - val_recall: 0.6144 - val_auc: 0.9514\n",
      "Epoch 28/50\n",
      "2/2 [==============================] - 0s 106ms/step - loss: 0.8652 - tp: 2426.0000 - fp: 669.0000 - tn: 24273.0000 - fn: 1731.0000 - accuracy: 0.9175 - precision: 0.7838 - recall: 0.5836 - auc: 0.9391 - val_loss: 0.8391 - val_tp: 648.0000 - val_fp: 126.0000 - val_tn: 6114.0000 - val_fn: 392.0000 - val_accuracy: 0.9288 - val_precision: 0.8372 - val_recall: 0.6231 - val_auc: 0.9524\n",
      "Epoch 29/50\n",
      "2/2 [==============================] - 0s 151ms/step - loss: 0.8630 - tp: 2384.0000 - fp: 646.0000 - tn: 24296.0000 - fn: 1773.0000 - accuracy: 0.9169 - precision: 0.7868 - recall: 0.5735 - auc: 0.9390 - val_loss: 0.8310 - val_tp: 655.0000 - val_fp: 127.0000 - val_tn: 6113.0000 - val_fn: 385.0000 - val_accuracy: 0.9297 - val_precision: 0.8376 - val_recall: 0.6298 - val_auc: 0.9533\n",
      "Epoch 30/50\n",
      "2/2 [==============================] - 0s 113ms/step - loss: 0.8541 - tp: 2491.0000 - fp: 653.0000 - tn: 24289.0000 - fn: 1666.0000 - accuracy: 0.9203 - precision: 0.7923 - recall: 0.5992 - auc: 0.9402 - val_loss: 0.8228 - val_tp: 666.0000 - val_fp: 123.0000 - val_tn: 6117.0000 - val_fn: 374.0000 - val_accuracy: 0.9317 - val_precision: 0.8441 - val_recall: 0.6404 - val_auc: 0.9542\n",
      "Epoch 31/50\n",
      "2/2 [==============================] - 0s 137ms/step - loss: 0.8533 - tp: 2441.0000 - fp: 635.0000 - tn: 24307.0000 - fn: 1716.0000 - accuracy: 0.9192 - precision: 0.7936 - recall: 0.5872 - auc: 0.9407 - val_loss: 0.8149 - val_tp: 675.0000 - val_fp: 122.0000 - val_tn: 6118.0000 - val_fn: 365.0000 - val_accuracy: 0.9331 - val_precision: 0.8469 - val_recall: 0.6490 - val_auc: 0.9550\n",
      "Epoch 32/50\n",
      "2/2 [==============================] - 0s 156ms/step - loss: 0.8360 - tp: 2536.0000 - fp: 629.0000 - tn: 24313.0000 - fn: 1621.0000 - accuracy: 0.9227 - precision: 0.8013 - recall: 0.6101 - auc: 0.9429 - val_loss: 0.8076 - val_tp: 685.0000 - val_fp: 121.0000 - val_tn: 6119.0000 - val_fn: 355.0000 - val_accuracy: 0.9346 - val_precision: 0.8499 - val_recall: 0.6587 - val_auc: 0.9557\n",
      "Epoch 33/50\n",
      "2/2 [==============================] - 0s 118ms/step - loss: 0.8416 - tp: 2521.0000 - fp: 662.0000 - tn: 24280.0000 - fn: 1636.0000 - accuracy: 0.9210 - precision: 0.7920 - recall: 0.6064 - auc: 0.9426 - val_loss: 0.8006 - val_tp: 692.0000 - val_fp: 122.0000 - val_tn: 6118.0000 - val_fn: 348.0000 - val_accuracy: 0.9354 - val_precision: 0.8501 - val_recall: 0.6654 - val_auc: 0.9565\n",
      "Epoch 34/50\n",
      "2/2 [==============================] - 0s 176ms/step - loss: 0.8330 - tp: 2607.0000 - fp: 664.0000 - tn: 24278.0000 - fn: 1550.0000 - accuracy: 0.9239 - precision: 0.7970 - recall: 0.6271 - auc: 0.9436 - val_loss: 0.7932 - val_tp: 701.0000 - val_fp: 123.0000 - val_tn: 6117.0000 - val_fn: 339.0000 - val_accuracy: 0.9365 - val_precision: 0.8507 - val_recall: 0.6740 - val_auc: 0.9575\n",
      "Epoch 35/50\n",
      "2/2 [==============================] - 0s 129ms/step - loss: 0.8195 - tp: 2637.0000 - fp: 632.0000 - tn: 24310.0000 - fn: 1520.0000 - accuracy: 0.9260 - precision: 0.8067 - recall: 0.6344 - auc: 0.9452 - val_loss: 0.7857 - val_tp: 706.0000 - val_fp: 115.0000 - val_tn: 6125.0000 - val_fn: 334.0000 - val_accuracy: 0.9383 - val_precision: 0.8599 - val_recall: 0.6788 - val_auc: 0.9585\n",
      "Epoch 36/50\n",
      "2/2 [==============================] - 0s 144ms/step - loss: 0.8365 - tp: 2593.0000 - fp: 647.0000 - tn: 24295.0000 - fn: 1564.0000 - accuracy: 0.9240 - precision: 0.8003 - recall: 0.6238 - auc: 0.9429 - val_loss: 0.7783 - val_tp: 711.0000 - val_fp: 113.0000 - val_tn: 6127.0000 - val_fn: 329.0000 - val_accuracy: 0.9393 - val_precision: 0.8629 - val_recall: 0.6837 - val_auc: 0.9595\n",
      "Epoch 37/50\n",
      "2/2 [==============================] - 0s 143ms/step - loss: 0.8061 - tp: 2683.0000 - fp: 621.0000 - tn: 24321.0000 - fn: 1474.0000 - accuracy: 0.9280 - precision: 0.8120 - recall: 0.6454 - auc: 0.9474 - val_loss: 0.7710 - val_tp: 723.0000 - val_fp: 109.0000 - val_tn: 6131.0000 - val_fn: 317.0000 - val_accuracy: 0.9415 - val_precision: 0.8690 - val_recall: 0.6952 - val_auc: 0.9604\n",
      "Epoch 38/50\n",
      "2/2 [==============================] - 0s 125ms/step - loss: 0.8058 - tp: 2650.0000 - fp: 620.0000 - tn: 24322.0000 - fn: 1507.0000 - accuracy: 0.9269 - precision: 0.8104 - recall: 0.6375 - auc: 0.9474 - val_loss: 0.7639 - val_tp: 732.0000 - val_fp: 107.0000 - val_tn: 6133.0000 - val_fn: 308.0000 - val_accuracy: 0.9430 - val_precision: 0.8725 - val_recall: 0.7038 - val_auc: 0.9613\n",
      "Epoch 39/50\n",
      "2/2 [==============================] - 0s 134ms/step - loss: 0.7911 - tp: 2754.0000 - fp: 592.0000 - tn: 24350.0000 - fn: 1403.0000 - accuracy: 0.9314 - precision: 0.8231 - recall: 0.6625 - auc: 0.9497 - val_loss: 0.7569 - val_tp: 741.0000 - val_fp: 107.0000 - val_tn: 6133.0000 - val_fn: 299.0000 - val_accuracy: 0.9442 - val_precision: 0.8738 - val_recall: 0.7125 - val_auc: 0.9622\n",
      "Epoch 40/50\n",
      "2/2 [==============================] - 0s 139ms/step - loss: 0.7849 - tp: 2727.0000 - fp: 588.0000 - tn: 24354.0000 - fn: 1430.0000 - accuracy: 0.9307 - precision: 0.8226 - recall: 0.6560 - auc: 0.9501 - val_loss: 0.7497 - val_tp: 749.0000 - val_fp: 105.0000 - val_tn: 6135.0000 - val_fn: 291.0000 - val_accuracy: 0.9456 - val_precision: 0.8770 - val_recall: 0.7202 - val_auc: 0.9630\n",
      "Epoch 41/50\n",
      "2/2 [==============================] - 0s 120ms/step - loss: 0.7811 - tp: 2791.0000 - fp: 567.0000 - tn: 24375.0000 - fn: 1366.0000 - accuracy: 0.9336 - precision: 0.8311 - recall: 0.6714 - auc: 0.9510 - val_loss: 0.7424 - val_tp: 756.0000 - val_fp: 102.0000 - val_tn: 6138.0000 - val_fn: 284.0000 - val_accuracy: 0.9470 - val_precision: 0.8811 - val_recall: 0.7269 - val_auc: 0.9638\n",
      "Epoch 42/50\n",
      "2/2 [==============================] - 0s 106ms/step - loss: 0.7768 - tp: 2822.0000 - fp: 586.0000 - tn: 24356.0000 - fn: 1335.0000 - accuracy: 0.9340 - precision: 0.8281 - recall: 0.6789 - auc: 0.9510 - val_loss: 0.7350 - val_tp: 771.0000 - val_fp: 101.0000 - val_tn: 6139.0000 - val_fn: 269.0000 - val_accuracy: 0.9492 - val_precision: 0.8842 - val_recall: 0.7413 - val_auc: 0.9643\n"
     ]
    },
    {
     "name": "stdout",
     "output_type": "stream",
     "text": [
      "Epoch 43/50\n",
      "2/2 [==============================] - 0s 105ms/step - loss: 0.7739 - tp: 2834.0000 - fp: 571.0000 - tn: 24371.0000 - fn: 1323.0000 - accuracy: 0.9349 - precision: 0.8323 - recall: 0.6817 - auc: 0.9510 - val_loss: 0.7278 - val_tp: 785.0000 - val_fp: 104.0000 - val_tn: 6136.0000 - val_fn: 255.0000 - val_accuracy: 0.9507 - val_precision: 0.8830 - val_recall: 0.7548 - val_auc: 0.9648\n",
      "Epoch 44/50\n",
      "2/2 [==============================] - 0s 121ms/step - loss: 0.7743 - tp: 2840.0000 - fp: 566.0000 - tn: 24376.0000 - fn: 1317.0000 - accuracy: 0.9353 - precision: 0.8338 - recall: 0.6832 - auc: 0.9518 - val_loss: 0.7208 - val_tp: 791.0000 - val_fp: 104.0000 - val_tn: 6136.0000 - val_fn: 249.0000 - val_accuracy: 0.9515 - val_precision: 0.8838 - val_recall: 0.7606 - val_auc: 0.9653\n",
      "Epoch 45/50\n",
      "2/2 [==============================] - 0s 109ms/step - loss: 0.7669 - tp: 2878.0000 - fp: 543.0000 - tn: 24399.0000 - fn: 1279.0000 - accuracy: 0.9374 - precision: 0.8413 - recall: 0.6923 - auc: 0.9526 - val_loss: 0.7138 - val_tp: 796.0000 - val_fp: 104.0000 - val_tn: 6136.0000 - val_fn: 244.0000 - val_accuracy: 0.9522 - val_precision: 0.8844 - val_recall: 0.7654 - val_auc: 0.9658\n",
      "Epoch 46/50\n",
      "2/2 [==============================] - 0s 113ms/step - loss: 0.7491 - tp: 2870.0000 - fp: 550.0000 - tn: 24392.0000 - fn: 1287.0000 - accuracy: 0.9369 - precision: 0.8392 - recall: 0.6904 - auc: 0.9550 - val_loss: 0.7066 - val_tp: 808.0000 - val_fp: 107.0000 - val_tn: 6133.0000 - val_fn: 232.0000 - val_accuracy: 0.9534 - val_precision: 0.8831 - val_recall: 0.7769 - val_auc: 0.9661\n",
      "Epoch 47/50\n",
      "2/2 [==============================] - 0s 124ms/step - loss: 0.7497 - tp: 2892.0000 - fp: 572.0000 - tn: 24370.0000 - fn: 1265.0000 - accuracy: 0.9369 - precision: 0.8349 - recall: 0.6957 - auc: 0.9544 - val_loss: 0.6995 - val_tp: 818.0000 - val_fp: 107.0000 - val_tn: 6133.0000 - val_fn: 222.0000 - val_accuracy: 0.9548 - val_precision: 0.8843 - val_recall: 0.7865 - val_auc: 0.9665\n",
      "Epoch 48/50\n",
      "2/2 [==============================] - 0s 105ms/step - loss: 0.7480 - tp: 2916.0000 - fp: 562.0000 - tn: 24380.0000 - fn: 1241.0000 - accuracy: 0.9380 - precision: 0.8384 - recall: 0.7015 - auc: 0.9545 - val_loss: 0.6926 - val_tp: 822.0000 - val_fp: 104.0000 - val_tn: 6136.0000 - val_fn: 218.0000 - val_accuracy: 0.9558 - val_precision: 0.8877 - val_recall: 0.7904 - val_auc: 0.9669\n",
      "Epoch 49/50\n",
      "2/2 [==============================] - 0s 124ms/step - loss: 0.7395 - tp: 2962.0000 - fp: 542.0000 - tn: 24400.0000 - fn: 1195.0000 - accuracy: 0.9403 - precision: 0.8453 - recall: 0.7125 - auc: 0.9553 - val_loss: 0.6860 - val_tp: 834.0000 - val_fp: 104.0000 - val_tn: 6136.0000 - val_fn: 206.0000 - val_accuracy: 0.9574 - val_precision: 0.8891 - val_recall: 0.8019 - val_auc: 0.9673\n",
      "Epoch 50/50\n",
      "2/2 [==============================] - 0s 150ms/step - loss: 0.7353 - tp: 2993.0000 - fp: 534.0000 - tn: 24408.0000 - fn: 1164.0000 - accuracy: 0.9416 - precision: 0.8486 - recall: 0.7200 - auc: 0.9556 - val_loss: 0.6796 - val_tp: 840.0000 - val_fp: 102.0000 - val_tn: 6138.0000 - val_fn: 200.0000 - val_accuracy: 0.9585 - val_precision: 0.8917 - val_recall: 0.8077 - val_auc: 0.9679\n"
     ]
    }
   ],
   "source": [
    "weighted_history = weighted_model.fit(\n",
    "    train_features,\n",
    "    train_target,\n",
    "    batch_size=BATCH_SIZE,\n",
    "    epochs=50,\n",
    "    #callbacks=[early_stopping],\n",
    "    validation_split=0.2,\n",
    "    # The class weights go here\n",
    "    class_weight=class_weights)"
   ]
  },
  {
   "cell_type": "code",
   "execution_count": 55,
   "metadata": {},
   "outputs": [
    {
     "data": {
      "image/png": "[encoded data removed]",
      "text/plain": [
       "<Figure size 864x720 with 4 Axes>"
      ]
     },
     "metadata": {
      "needs_background": "light"
     },
     "output_type": "display_data"
    }
   ],
   "source": [
    "plot_metrics(weighted_history)"
   ]
  },
  {
   "cell_type": "code",
   "execution_count": 56,
   "metadata": {},
   "outputs": [
    {
     "name": "stdout",
     "output_type": "stream",
     "text": [
      "41/41 [==============================] - 0s 1ms/step - loss: 0.5943 - tp: 1097.0000 - fp: 97.0000 - tn: 7703.0000 - fn: 203.0000 - accuracy: 0.9670 - precision: 0.9188 - recall: 0.8438 - auc: 0.9763\n"
     ]
    },
    {
     "data": {
      "text/plain": [
       "[0.5942851901054382,\n",
       " 1097.0,\n",
       " 97.0,\n",
       " 7703.0,\n",
       " 203.0,\n",
       " 0.9670329689979553,\n",
       " 0.9187604784965515,\n",
       " 0.8438461422920227,\n",
       " 0.9763324856758118]"
      ]
     },
     "execution_count": 56,
     "metadata": {},
     "output_type": "execute_result"
    }
   ],
   "source": [
    "weighted_model.evaluate(test_features,test_target)"
   ]
  },
  {
   "cell_type": "code",
   "execution_count": null,
   "metadata": {},
   "outputs": [],
   "source": [
    "pred = weighted_model.predict(test_features)\n",
    "confusion = confusion_matrix(test_target.argmax(axis=1), pred.argmax(axis=1))\n",
    "print('Confusion Matrix\\n')\n",
    "confusion"
   ]
  },
  {
   "cell_type": "code",
   "execution_count": null,
   "metadata": {},
   "outputs": [],
   "source": []
  },
  {
   "cell_type": "code",
   "execution_count": null,
   "metadata": {},
   "outputs": [],
   "source": [
    "stop"
   ]
  },
  {
   "cell_type": "markdown",
   "metadata": {},
   "source": [
    "---------------------------------------------------------------------------------------------First Testing"
   ]
  },
  {
   "cell_type": "code",
   "execution_count": null,
   "metadata": {},
   "outputs": [],
   "source": [
    "#Simple Model\n",
    "# TO COMPLETE: Construct the architecture\n",
    "model = keras.Sequential()\n",
    "model.add(keras.layers.Dense(62,activation=\"sigmoid\",input_shape=(X_train.shape[1],)))\n",
    "model.add(keras.layers.Dense(30,activation=\"relu\"))\n",
    "model.add(keras.layers.Dense(10,activation=\"relu\"))\n",
    "model.add(keras.layers.Dense(output_shape,activation=\"softmax\"))\n",
    "#Optimizer\n",
    "optimizer = keras.optimizers.Adam(lr=0.01)"
   ]
  },
  {
   "cell_type": "code",
   "execution_count": null,
   "metadata": {},
   "outputs": [],
   "source": [
    "#model visualization\n",
    "model.summary()"
   ]
  },
  {
   "cell_type": "code",
   "execution_count": null,
   "metadata": {},
   "outputs": [],
   "source": [
    "#compile model\n",
    "model.compile(optimizer=optimizer,\n",
    "             loss='mse',\n",
    "             metrics=[\"accuracy\"])"
   ]
  },
  {
   "cell_type": "code",
   "execution_count": null,
   "metadata": {},
   "outputs": [],
   "source": [
    "#fit operation\n",
    "model.fit(X_train, y_train, batch_size=80, epochs=30, validation_split=0.1)"
   ]
  },
  {
   "cell_type": "code",
   "execution_count": null,
   "metadata": {},
   "outputs": [],
   "source": [
    "#evaluate\n",
    "model.evaluate(X_test,y_test)"
   ]
  },
  {
   "cell_type": "code",
   "execution_count": null,
   "metadata": {},
   "outputs": [],
   "source": [
    "#Resampling"
   ]
  },
  {
   "cell_type": "code",
   "execution_count": null,
   "metadata": {},
   "outputs": [],
   "source": [
    "wine[\"quality\"].value_counts()"
   ]
  },
  {
   "cell_type": "markdown",
   "metadata": {},
   "source": [
    "# Using randomUnderSampling"
   ]
  },
  {
   "cell_type": "code",
   "execution_count": null,
   "metadata": {},
   "outputs": [],
   "source": [
    "# import the Random Under Sampler object.\n",
    "from imblearn.under_sampling import RandomUnderSampler"
   ]
  },
  {
   "cell_type": "code",
   "execution_count": null,
   "metadata": {},
   "outputs": [],
   "source": [
    "# create the object.\n",
    "under_sampler = RandomUnderSampler()"
   ]
  },
  {
   "cell_type": "code",
   "execution_count": null,
   "metadata": {},
   "outputs": [],
   "source": [
    "# fit the object to the training data.\n",
    "x_train_under, y_train_under = under_sampler.fit_sample(X_train, y_train)"
   ]
  },
  {
   "cell_type": "code",
   "execution_count": null,
   "metadata": {},
   "outputs": [],
   "source": [
    "#Test with new training sets\n",
    "model = keras.Sequential()\n",
    "model.add(keras.layers.Dense(62,activation=\"sigmoid\",input_shape=(X_train.shape[1],)))\n",
    "model.add(keras.layers.Dense(30,activation=\"relu\"))\n",
    "model.add(keras.layers.Dense(10,activation=\"relu\"))\n",
    "model.add(keras.layers.Dense(output_shape,activation=\"softmax\"))\n",
    "#Optimizer\n",
    "optimizer = keras.optimizers.Adam(lr=0.01)"
   ]
  },
  {
   "cell_type": "code",
   "execution_count": null,
   "metadata": {},
   "outputs": [],
   "source": [
    "#compile model\n",
    "model.compile(optimizer=optimizer,\n",
    "             loss='mse',\n",
    "             metrics=[\"accuracy\"])"
   ]
  },
  {
   "cell_type": "code",
   "execution_count": null,
   "metadata": {},
   "outputs": [],
   "source": [
    "len(X_train)"
   ]
  },
  {
   "cell_type": "code",
   "execution_count": null,
   "metadata": {},
   "outputs": [],
   "source": [
    "#fit operation\n",
    "model.fit(x_train_under, y_train_under, batch_size=20, epochs=30, validation_split=0.1)"
   ]
  },
  {
   "cell_type": "code",
   "execution_count": null,
   "metadata": {},
   "outputs": [],
   "source": [
    "#evaluate\n",
    "model.evaluate(X_test,y_test)"
   ]
  },
  {
   "cell_type": "markdown",
   "metadata": {},
   "source": [
    "## Using NearMiss"
   ]
  },
  {
   "cell_type": "code",
   "execution_count": null,
   "metadata": {},
   "outputs": [],
   "source": [
    "from imblearn.under_sampling import NearMiss\n",
    "\n",
    "# create the object.\n",
    "near = NearMiss(sampling_strategy=\"not minority\")"
   ]
  },
  {
   "cell_type": "code",
   "execution_count": null,
   "metadata": {},
   "outputs": [],
   "source": [
    "# New x_train and y_train.\n",
    "x_train_near, y_train_near = near.fit_sample(X_train, y_train)"
   ]
  },
  {
   "cell_type": "code",
   "execution_count": null,
   "metadata": {},
   "outputs": [],
   "source": [
    "#Test with new training sets\n",
    "model = keras.Sequential()\n",
    "model.add(keras.layers.Dense(62,activation=\"sigmoid\",input_shape=(X_train.shape[1],)))\n",
    "model.add(keras.layers.Dense(30,activation=\"relu\"))\n",
    "model.add(keras.layers.Dense(10,activation=\"relu\"))\n",
    "model.add(keras.layers.Dense(output_shape,activation=\"softmax\"))\n",
    "#Optimizer\n",
    "optimizer = keras.optimizers.Adam(lr=0.01)"
   ]
  },
  {
   "cell_type": "code",
   "execution_count": null,
   "metadata": {},
   "outputs": [],
   "source": [
    "#compile model\n",
    "model.compile(optimizer=optimizer,\n",
    "             loss='mse',\n",
    "             metrics=[\"accuracy\"])"
   ]
  },
  {
   "cell_type": "code",
   "execution_count": null,
   "metadata": {},
   "outputs": [],
   "source": [
    "#fit operation\n",
    "model.fit(x_train_near, y_train_near, batch_size=40, epochs=30, validation_split=0.1)"
   ]
  },
  {
   "cell_type": "code",
   "execution_count": null,
   "metadata": {},
   "outputs": [],
   "source": [
    "#evaluate\n",
    "model.evaluate(X_test,y_test)"
   ]
  },
  {
   "cell_type": "markdown",
   "metadata": {},
   "source": [
    "# Oversampling"
   ]
  },
  {
   "cell_type": "markdown",
   "metadata": {},
   "source": [
    "Random oversampling simply replicates random minority class examples. It’s known to increase the likelihood of overfitting, which is a major drawback."
   ]
  },
  {
   "cell_type": "code",
   "execution_count": null,
   "metadata": {},
   "outputs": [],
   "source": [
    "from imblearn.over_sampling import RandomOverSampler\n",
    "\n",
    "over_sampler = RandomOverSampler()\n",
    "\n",
    "# fit the object to the training data.\n",
    "x_train_over, y_train_over = over_sampler.fit_sample(X_train, y_train)"
   ]
  },
  {
   "cell_type": "code",
   "execution_count": null,
   "metadata": {},
   "outputs": [],
   "source": [
    "x_train_over.shape"
   ]
  },
  {
   "cell_type": "code",
   "execution_count": null,
   "metadata": {},
   "outputs": [],
   "source": [
    "#Test with new training sets\n",
    "model = keras.Sequential()\n",
    "model.add(keras.layers.Dense(62,activation=\"sigmoid\",input_shape=(X_train.shape[1],)))\n",
    "model.add(keras.layers.Dense(30,activation=\"relu\"))\n",
    "model.add(keras.layers.Dense(10,activation=\"relu\"))\n",
    "model.add(keras.layers.Dense(output_shape,activation=\"softmax\"))\n",
    "#Optimizer\n",
    "optimizer = keras.optimizers.Adam(lr=0.01)"
   ]
  },
  {
   "cell_type": "code",
   "execution_count": null,
   "metadata": {},
   "outputs": [],
   "source": [
    "#compile model\n",
    "model.compile(optimizer=optimizer,\n",
    "             loss='mse',\n",
    "             metrics=[\"accuracy\"])"
   ]
  },
  {
   "cell_type": "code",
   "execution_count": null,
   "metadata": {},
   "outputs": [],
   "source": [
    "#fit operation\n",
    "model.fit(x_train_over, y_train_over, batch_size=80, epochs=30, validation_split=0.1)"
   ]
  },
  {
   "cell_type": "code",
   "execution_count": null,
   "metadata": {},
   "outputs": [],
   "source": []
  }
 ],
 "metadata": {
  "kernelspec": {
   "display_name": "becode_deep",
   "language": "python",
   "name": "becode_deep"
  },
  "language_info": {
   "codemirror_mode": {
    "name": "ipython",
    "version": 3
   },
   "file_extension": ".py",
   "mimetype": "text/x-python",
   "name": "python",
   "nbconvert_exporter": "python",
   "pygments_lexer": "ipython3",
   "version": "3.6.7"
  }
 },
 "nbformat": 4,
 "nbformat_minor": 4
}
